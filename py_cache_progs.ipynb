{
 "cells": [
  {
   "cell_type": "code",
   "execution_count": 1,
   "id": "56a8f82e",
   "metadata": {},
   "outputs": [
    {
     "ename": "NameError",
     "evalue": "name 'a' is not defined",
     "output_type": "error",
     "traceback": [
      "\u001b[1;31m---------------------------------------------------------------------------\u001b[0m",
      "\u001b[1;31mNameError\u001b[0m                                 Traceback (most recent call last)",
      "\u001b[1;32m<ipython-input-1-ad819bf50024>\u001b[0m in \u001b[0;36m<module>\u001b[1;34m\u001b[0m\n\u001b[0;32m      6\u001b[0m     \u001b[0mx\u001b[0m\u001b[1;33m=\u001b[0m\u001b[0mi\u001b[0m\u001b[1;33m+\u001b[0m\u001b[0mx\u001b[0m\u001b[1;33m\u001b[0m\u001b[1;33m\u001b[0m\u001b[0m\n\u001b[0;32m      7\u001b[0m     \u001b[1;32mfor\u001b[0m \u001b[0mj\u001b[0m \u001b[1;32min\u001b[0m \u001b[0mrange\u001b[0m\u001b[1;33m(\u001b[0m\u001b[0mg\u001b[0m\u001b[1;33m,\u001b[0m\u001b[0mx\u001b[0m\u001b[1;33m)\u001b[0m\u001b[1;33m:\u001b[0m\u001b[1;33m\u001b[0m\u001b[1;33m\u001b[0m\u001b[0m\n\u001b[1;32m----> 8\u001b[1;33m         \u001b[0ma\u001b[0m\u001b[1;33m=\u001b[0m\u001b[0ma\u001b[0m\u001b[1;33m+\u001b[0m\u001b[0mstr\u001b[0m\u001b[1;33m(\u001b[0m\u001b[0mj\u001b[0m\u001b[1;33m)\u001b[0m\u001b[1;33m+\u001b[0m\u001b[1;34m'*'\u001b[0m\u001b[1;33m\u001b[0m\u001b[1;33m\u001b[0m\u001b[0m\n\u001b[0m\u001b[0;32m      9\u001b[0m \u001b[1;33m\u001b[0m\u001b[0m\n\u001b[0;32m     10\u001b[0m         \u001b[0mb\u001b[0m\u001b[1;33m=\u001b[0m\u001b[0mb\u001b[0m\u001b[1;33m+\u001b[0m\u001b[1;34m\"*\"\u001b[0m\u001b[1;33m+\u001b[0m\u001b[0mstr\u001b[0m\u001b[1;33m(\u001b[0m\u001b[0mj\u001b[0m\u001b[1;33m+\u001b[0m\u001b[1;33m(\u001b[0m\u001b[0mi\u001b[0m\u001b[1;33m*\u001b[0m\u001b[0mi\u001b[0m\u001b[1;33m)\u001b[0m\u001b[1;33m)\u001b[0m\u001b[1;33m\u001b[0m\u001b[1;33m\u001b[0m\u001b[0m\n",
      "\u001b[1;31mNameError\u001b[0m: name 'a' is not defined"
     ]
    }
   ],
   "source": [
    "n=4\n",
    "ans=[]\n",
    "x=1\n",
    "for i in range(n,0,-1):\n",
    "    g=x\n",
    "    x=i+x\n",
    "    for j in range(g,x):\n",
    "        a=a+str(j)+'*'\n",
    "\n",
    "        b=b+\"*\"+str(j+(i*i))\n",
    "\n",
    "   \n",
    "    if n-i!=0:\n",
    "        ans.append('-'*(2*(n-i))+a[:-1]+b)\n",
    "        \n",
    "    if n-i==0:\n",
    "        ans.append(a[:-1]+b)\n",
    "        \n",
    "    a,b='',''\n",
    "for i in ans:\n",
    "    print(i)"
   ]
  },
  {
   "cell_type": "code",
   "execution_count": null,
   "id": "b5e28cbf",
   "metadata": {},
   "outputs": [],
   "source": [
    "a=[4,2,2,2,4]\n",
    "n=len(a)\n",
    "p=False\n",
    "temp=0\n",
    "ans=[]\n",
    "j=0\n",
    "#for i in range(n):\n",
    "while j<n-1:\n",
    "        if a[j]>a[temp] :\n",
    "            if a[j+1]<a[temp] :\n",
    "                ans.append([temp,j])\n",
    "                p=True\n",
    "            if j==n-2:\n",
    "                ans.append([temp,j+1])\n",
    "                p=True\n",
    "                \n",
    "                \n",
    "            \n",
    "        if a[temp]>a[j]:\n",
    "            temp=j\n",
    "\n",
    "        print(temp)\n",
    "        j+=1\n",
    "            \n",
    "if p :print(ans)\n",
    "else:print(0)"
   ]
  },
  {
   "cell_type": "code",
   "execution_count": null,
   "id": "8ed62cc6",
   "metadata": {},
   "outputs": [],
   "source": [
    "s='aaabbaa'\n",
    "n=len(s)\n",
    "ans=[]\n",
    "h=[]\n",
    "for i in range(n):\n",
    "    for j in range(i+1,n+1):\n",
    "        if s[i:j]==s[i:j][::-1]:\n",
    "            ans.append(s[i:j])\n",
    "for i in ans:\n",
    "    h.append(len(i))\n",
    "    \n",
    "print(ans[h.index(max(h))])"
   ]
  },
  {
   "cell_type": "code",
   "execution_count": null,
   "id": "15858a18",
   "metadata": {},
   "outputs": [],
   "source": [
    "arr=[1,2,3,4,5]\n",
    "l=len(arr)-1\n",
    "arr = arr[l:]+arr[:l]\n",
    "print(arr)"
   ]
  },
  {
   "cell_type": "code",
   "execution_count": null,
   "id": "c33c8dd3",
   "metadata": {},
   "outputs": [],
   "source": [
    "def rotate(a, n):\n",
    "    f=a[n-1]\n",
    "    for i in range(n-1,0,-1):\n",
    "        a[i]=a[i-1]\n",
    "    a[0]=f\n",
    "a=[1,2,3,4,5]    \n",
    "rotate(a,5)\n",
    "print(*a)"
   ]
  },
  {
   "cell_type": "code",
   "execution_count": null,
   "id": "a2cffc22",
   "metadata": {},
   "outputs": [],
   "source": [
    "s='ecfbefdcfca'\n",
    "t='badfcbebbf'\n",
    "ctr=0\n",
    "print(len(s),len(t))\n",
    "if len(s)==len(t):\n",
    "    for i in range(len(s)):\n",
    "        if s[i]!=t[i]:\n",
    "            ctr+1\n",
    "            \n",
    "if len(s)<len(t):\n",
    "    for i in range(len(t)):\n",
    "                if s[i]==t[i]:\n",
    "                    continue\n",
    "                else:\n",
    "                    temp=s[i:]\n",
    "                    s=s[:i]+t[i]+s[i:]\n",
    "                    ctr+=1\n",
    "                    \n",
    "if len(s)>len(t):\n",
    "    ctr1,ctr2=0,0\n",
    "    x=len(s)-len(t)\n",
    "    s1=s[x:]\n",
    "    s2=s[0:len(s)-x]\n",
    "    print(s1,s2)\n",
    "    for i in range(len(s1)):\n",
    "        if s1[i]!=t[i]:\n",
    "            ctr1+=1\n",
    "            \n",
    "    for i in range(len(s2)):\n",
    "        if s2[i]!=t[i]:\n",
    "            ctr2+=1\n",
    "            \n",
    "    print(ctr1,ctr2)       \n",
    "    ctr=min(ctr1,ctr2)\n",
    "            \n",
    "            \n",
    "    \n",
    "    \n",
    "    \n",
    "                    \n",
    "print(ctr)"
   ]
  },
  {
   "cell_type": "code",
   "execution_count": null,
   "id": "7e264c3f",
   "metadata": {},
   "outputs": [],
   "source": [
    "import collections\n",
    "s='gandmarao'\n",
    "p='ndr'\n",
    "li=list(p)\n",
    "dict1=collections.Counter(s)\n",
    "for i in p:\n",
    "    if dict1[i]>=1:\n",
    "        continue\n",
    "    else:\n",
    "        print(-1)\n",
    "                \n",
    "if len(p)>len(s):\n",
    "        print(-1)\n",
    "            \n",
    "if p==s:\n",
    "        print(p)\n",
    "u=False\n",
    "ans=[]\n",
    "for j in range(len(s)-1,len(p)-1,-1):\n",
    "        for i in k:\n",
    "            if i in s[0:j+1]:\n",
    "                u=True\n",
    "                continue\n",
    "                \n",
    "            if i not in s[:j+1]:\n",
    "                u=False\n",
    "                break\n",
    "                \n",
    "        if u:\n",
    "            ans.append(s[:j+1])\n",
    "                            \n",
    "\n",
    "print(ans)\n",
    "            "
   ]
  },
  {
   "cell_type": "code",
   "execution_count": null,
   "id": "713b9ee0",
   "metadata": {},
   "outputs": [],
   "source": [
    "s='gandmarao'\n",
    "p='ndr'\n",
    "k=list(p)\n",
    "u=False\n",
    "ans=[]\n",
    "for j in range(len(s)-1,0,-1):\n",
    "        for i in k:\n",
    "            if i in s[0:j+1]:\n",
    "                u=True\n",
    "                continue\n",
    "                \n",
    "            if i not in s[:j+1]:\n",
    "                u=False\n",
    "                break\n",
    "                \n",
    "        if u:\n",
    "            ans.append(s[:j+1])\n",
    "\n",
    "r=ans[len(ans)-1]                   \n",
    "d=False\n",
    "ans2=[]\n",
    "for j in range(0,len(r)):\n",
    "    for i in k :\n",
    "        if i in r[j:]:\n",
    "            d=True\n",
    "            continue\n",
    "            \n",
    "        if i not in r[j:]:\n",
    "            d=False\n",
    "            break\n",
    "            \n",
    "    if d:\n",
    "        ans2.append(r[j:])\n",
    "      \n",
    "final=ans2[len(ans2)-1]\n",
    "print(final)"
   ]
  },
  {
   "cell_type": "code",
   "execution_count": null,
   "id": "51107525",
   "metadata": {},
   "outputs": [],
   "source": [
    "import numpy as np\n",
    "n=5\n",
    "prod=1\n",
    "if n == 0 :\n",
    "    prod=1\n",
    "        \n",
    "else:\n",
    "    for i in range(1,n+1):\n",
    "        prod=prod*i\n",
    "                \n",
    "l=[]\n",
    "while prod>0:\n",
    "    l.append(prod%10)\n",
    "    prod=prod//10\n",
    "    \n",
    "print(np.reverse(l))"
   ]
  },
  {
   "cell_type": "code",
   "execution_count": null,
   "id": "56dbcaf8",
   "metadata": {},
   "outputs": [],
   "source": [
    "n=20\n",
    "\n",
    "temp,r=0,0\n",
    "s=10**n\n",
    "sumx=0\n",
    "if n >0 and n<10:\n",
    "    print(n*s)\n",
    "    \n",
    "else:\n",
    "    h=n//9\n",
    "    for i in range(h):\n",
    "        r=(r*10)+9\n",
    "        sumx=sumx+9\n",
    "    temp=((n-sumx)*(10**h))+r\n",
    "    print(temp*s)\n"
   ]
  },
  {
   "cell_type": "code",
   "execution_count": null,
   "id": "0feaf866",
   "metadata": {},
   "outputs": [],
   "source": [
    "import collections\n",
    "arr=[[0 ,0, 0 ,1,0 ,0],[0 ,0 ,0 ,1, 0, 1]]\n",
    "ans=[]\n",
    "for i in arr:\n",
    "    dict=collections.Counter(i)\n",
    "    ans.append(dict[1])\n",
    "    \n",
    "x=ans.index(max(ans))\n",
    "    \n",
    "if ans.count(max(ans))>1:print(-1)\n",
    "else:print(x)"
   ]
  },
  {
   "cell_type": "code",
   "execution_count": null,
   "id": "813cc971",
   "metadata": {},
   "outputs": [],
   "source": [
    "a=[34, 8, 10, 3, 2, 80, 30, 33, 1]\n",
    "x=[]\n",
    "ans=[]\n",
    "for i in a:\n",
    "    x.append(i)\n",
    "    \n",
    "x.sort()\n",
    "m=max(a)\n",
    "n=a.index(m)\n",
    "for i in range(len(a)):\n",
    "    if i is not n and n>i :\n",
    "        ans.append(n-i)\n",
    "print(max(ans))"
   ]
  },
  {
   "cell_type": "code",
   "execution_count": null,
   "id": "c3395aae",
   "metadata": {},
   "outputs": [],
   "source": [
    "def merge(a,l,m,r):\n",
    "    \n",
    "    n1= m - l + 1\n",
    "    n2=h-m\n",
    "    tl=[0]*n1\n",
    "    tr=[0]*n2\n",
    "    for i in range(n1):\n",
    "        tl[i]=a[i]\n",
    "        \n",
    "    for j in range(n2):\n",
    "        tr[j]=a[j]\n",
    "        \n",
    "    i,j,k=0,0,1\n",
    "    while i<n1 and j<n1:\n",
    "        if tl[i]<tr[j]:\n",
    "            a[k]=tl[i]\n",
    "            k+=1\n",
    "            i+=1\n",
    "            \n",
    "            \n",
    "        if tl[i]>tr[j]:\n",
    "            a[k]=tr[j]\n",
    "            k+=1\n",
    "            j+=1\n",
    "            \n",
    "            \n",
    "    if i<n1:\n",
    "        a[k]=tl[i]\n",
    "        i+=1\n",
    "        k+=1\n",
    "        \n",
    "    if j <n2:\n",
    "        a[k]=lr[j]\n",
    "        j+=1\n",
    "        k==1\n",
    "        \n",
    "        \n",
    "def mergesort(a,l,h):\n",
    "    if l<h:\n",
    "        m=(l+h)//2\n",
    "        mergesort(a,l,m)\n",
    "        mergesort(a,m+1,h)\n",
    "        merge(a,l,m,h)\n",
    "        \n",
    "        \n",
    "a=[4,2,65,12,11,13,1,0,9]\n",
    "print(a)\n",
    "mergesort(a,0,len(a))\n",
    "print(a)\n",
    "        "
   ]
  },
  {
   "cell_type": "code",
   "execution_count": null,
   "id": "6109fef2",
   "metadata": {},
   "outputs": [],
   "source": []
  },
  {
   "cell_type": "code",
   "execution_count": null,
   "id": "861b6524",
   "metadata": {},
   "outputs": [],
   "source": [
    "import math\n",
    "from itertools import product\n",
    "\n",
    "x=[1,5,5,5,2]\n",
    "ctr=0\n",
    "n=len(x)\n",
    "temp,l=[],[]\n",
    "for i in range(0,n):\n",
    "    temp.append(i)\n",
    "    \n",
    "d=list(product(temp,temp))\n",
    "for i in d:\n",
    "    if [i[1],i[0]] not in d:\n",
    "        if i!=[i[0],i[0]]:\n",
    "            l.append(i)\n",
    "        \n",
    "print(l)\n",
    "h=l[0][1]\n",
    "\n",
    "for i in l:\n",
    "    g=math.gcd(x[i[0]],x[i[1]])\n",
    "    l=(x[i[0]]*x[i[1]])/g\n",
    "    if g==l:\n",
    "        ctr+=1\n",
    "            \n",
    "print(ctr)"
   ]
  },
  {
   "cell_type": "code",
   "execution_count": null,
   "id": "7fb8ff0f",
   "metadata": {},
   "outputs": [],
   "source": [
    "x=[1,5,5,5,2]\n",
    "n=len(x)\n",
    "temp,l=[],[]\n",
    "for i in range(1,n+1):\n",
    "    temp.append(i)\n",
    "    \n",
    "d=list(product(temp,temp))\n",
    "for i in d:\n",
    "    if [i[1],i[0]] not in d :\n",
    "        if i!=[i[0],i[0]]:\n",
    "            l.append(i)\n",
    "        \n",
    "print(l)"
   ]
  },
  {
   "cell_type": "code",
   "execution_count": null,
   "id": "cdb2fdc3",
   "metadata": {},
   "outputs": [],
   "source": [
    "import math\n",
    "x=[1,5,5,5,2]\n",
    "temp=[]\n",
    "ctr=0\n",
    "for i in range(len(x)):\n",
    "    for j in range(i+1,len(x)):\n",
    "        temp.append([x[i],x[j]])    \n",
    "print(temp)\n",
    "\n",
    "for i in temp:\n",
    "    g=math.gcd(i[0],i[1])\n",
    "    l=(i[0]*i[1])/g\n",
    "    if l==g:\n",
    "        ctr+=1\n",
    "        \n",
    "print(ctr)\n"
   ]
  },
  {
   "cell_type": "code",
   "execution_count": 7,
   "id": "2923c073",
   "metadata": {},
   "outputs": [
    {
     "name": "stdout",
     "output_type": "stream",
     "text": [
      "[[2, 3, 5, 4, 1], [4, 2, 1, 5, 6]]\n",
      "[1, 2, 3, 4, 5] [1, 2, 4, 5, 6]\n",
      "0\n",
      "2 4\n",
      "1 2\n",
      "3\n",
      "------------------\n",
      "1\n",
      "3 2\n",
      "2 1\n",
      "3\n",
      "------------------\n",
      "2\n",
      "5 1\n",
      "4 0\n",
      "4\n",
      "------------------\n",
      "3\n",
      "4 5\n",
      "3 3\n",
      "6\n",
      "------------------\n",
      "4\n",
      "1 6\n",
      "0 4\n",
      "4\n",
      "------------------\n",
      "[3, 3, 4, 6, 4]\n"
     ]
    }
   ],
   "source": [
    "x=[[2 ,3, 5, 4, 1],[4, 2 ,1 ,5 ,6]]\n",
    "#x=[[1,2,3],[1,4,2]]\n",
    "#x=[[1,2],[2,1]]\n",
    "#x=[[1,2],[3,4]]\n",
    "mp=0\n",
    "ans=[]\n",
    "gp=x[0].copy()\n",
    "wp=x[1].copy()    \n",
    "gp.sort()\n",
    "wp.sort()\n",
    "print(x)\n",
    "print(gp,wp)\n",
    "for i in range(0,len(x[0])):\n",
    "    print(i)\n",
    "    print(x[0][i],x[1][i])\n",
    "    print(gp.index(x[0][i]),wp.index(x[1][i]))\n",
    "    print(gp.index(x[0][i])+wp.index(x[1][i]))\n",
    "    print('------------------')\n",
    "    ans.append(gp.index(x[0][i])+wp.index(x[1][i]))\n",
    "\n",
    "\n",
    "print(ans)"
   ]
  },
  {
   "cell_type": "code",
   "execution_count": 21,
   "id": "93b7107e",
   "metadata": {},
   "outputs": [
    {
     "name": "stdout",
     "output_type": "stream",
     "text": [
      "8888888\n",
      "8888888\n",
      "8888888\n",
      "8888888\n",
      "8888888\n",
      "2\n",
      "2\n",
      "0\n",
      "0\n",
      "0\n",
      "0\n",
      "0\n",
      "0\n",
      "0\n",
      "0\n",
      "0\n",
      "0\n",
      "0\n",
      "0\n",
      "0\n",
      "0\n",
      "0\n",
      "0\n",
      "0\n",
      "0\n",
      "0\n",
      "0\n",
      "0\n"
     ]
    }
   ],
   "source": [
    "def fuck(a,n,i,cur,h):\n",
    "    global ans\n",
    "    if cur>h:return\n",
    "    if i==n:\n",
    "        ans=min(ans,h-cur)\n",
    "        return\n",
    "    print(ans)\n",
    "    fuck(a,n,i+1,cur+a[i],h)\n",
    "    fuck(a,n,i+1,cur,h)\n",
    "\n",
    "ans=8888888\n",
    "a=[1,2,5,7,11]\n",
    "h=10\n",
    "n=len(a)\n",
    "global ans\n",
    "fuck(a,n,0,0,h)\n",
    "\n",
    "print(ans)"
   ]
  },
  {
   "cell_type": "code",
   "execution_count": 24,
   "id": "90972e00",
   "metadata": {},
   "outputs": [
    {
     "name": "stdout",
     "output_type": "stream",
     "text": [
      "100\n"
     ]
    }
   ],
   "source": [
    "import numpy as np\n",
    "num=455\n",
    "n = [int(x) for x in str(num)]\n",
    "print(np.prod(n))"
   ]
  },
  {
   "cell_type": "code",
   "execution_count": 1,
   "id": "cb7c65b2",
   "metadata": {},
   "outputs": [
    {
     "ename": "NameError",
     "evalue": "name 'gp' is not defined",
     "output_type": "error",
     "traceback": [
      "\u001b[1;31m---------------------------------------------------------------------------\u001b[0m",
      "\u001b[1;31mNameError\u001b[0m                                 Traceback (most recent call last)",
      "\u001b[1;32m<ipython-input-1-2c07b3753036>\u001b[0m in \u001b[0;36m<module>\u001b[1;34m\u001b[0m\n\u001b[1;32m----> 1\u001b[1;33m \u001b[1;32mfor\u001b[0m \u001b[0mi\u001b[0m \u001b[1;32min\u001b[0m \u001b[0mrange\u001b[0m\u001b[1;33m(\u001b[0m\u001b[1;36m1\u001b[0m\u001b[1;33m,\u001b[0m\u001b[0mlen\u001b[0m\u001b[1;33m(\u001b[0m\u001b[0mgp\u001b[0m\u001b[1;33m)\u001b[0m\u001b[1;33m)\u001b[0m\u001b[1;33m:\u001b[0m\u001b[1;33m\u001b[0m\u001b[1;33m\u001b[0m\u001b[0m\n\u001b[0m\u001b[0;32m      2\u001b[0m     \u001b[0mmp\u001b[0m\u001b[1;33m=\u001b[0m\u001b[1;33m(\u001b[0m\u001b[0mlen\u001b[0m\u001b[1;33m(\u001b[0m\u001b[0mgp\u001b[0m\u001b[1;33m)\u001b[0m\u001b[1;33m-\u001b[0m\u001b[1;36m1\u001b[0m\u001b[1;33m)\u001b[0m\u001b[1;33m-\u001b[0m\u001b[0mi\u001b[0m \u001b[1;33m+\u001b[0m \u001b[1;33m(\u001b[0m\u001b[0mlen\u001b[0m\u001b[1;33m(\u001b[0m\u001b[0mwp\u001b[0m\u001b[1;33m)\u001b[0m\u001b[1;33m-\u001b[0m\u001b[0mwp\u001b[0m\u001b[1;33m.\u001b[0m\u001b[0mindex\u001b[0m\u001b[1;33m(\u001b[0m\u001b[0mwp\u001b[0m\u001b[1;33m[\u001b[0m\u001b[0mgp\u001b[0m\u001b[1;33m.\u001b[0m\u001b[0mindex\u001b[0m\u001b[1;33m(\u001b[0m\u001b[0mx\u001b[0m\u001b[1;33m[\u001b[0m\u001b[1;36m0\u001b[0m\u001b[1;33m]\u001b[0m\u001b[1;33m[\u001b[0m\u001b[0mi\u001b[0m\u001b[1;33m]\u001b[0m\u001b[1;33m)\u001b[0m\u001b[1;33m]\u001b[0m\u001b[1;33m)\u001b[0m\u001b[1;33m)\u001b[0m\u001b[1;33m\u001b[0m\u001b[1;33m\u001b[0m\u001b[0m\n\u001b[0;32m      3\u001b[0m     \u001b[0mprint\u001b[0m\u001b[1;33m(\u001b[0m\u001b[0mmp\u001b[0m\u001b[1;33m)\u001b[0m\u001b[1;33m\u001b[0m\u001b[1;33m\u001b[0m\u001b[0m\n\u001b[0;32m      4\u001b[0m \u001b[1;33m\u001b[0m\u001b[0m\n\u001b[0;32m      5\u001b[0m     \u001b[0mans\u001b[0m\u001b[1;33m.\u001b[0m\u001b[0mappend\u001b[0m\u001b[1;33m(\u001b[0m\u001b[0mmp\u001b[0m\u001b[1;33m)\u001b[0m\u001b[1;33m\u001b[0m\u001b[1;33m\u001b[0m\u001b[0m\n",
      "\u001b[1;31mNameError\u001b[0m: name 'gp' is not defined"
     ]
    }
   ],
   "source": [
    "for i in range(1,len(gp)):\n",
    "    mp=(len(gp)-1)-i + (len(wp)-wp.index(wp[gp.index(x[0][i])]))\n",
    "    print(mp)\n",
    "    \n",
    "    ans.append(mp)\n",
    " "
   ]
  },
  {
   "cell_type": "code",
   "execution_count": 34,
   "id": "77250e53",
   "metadata": {},
   "outputs": [
    {
     "name": "stdout",
     "output_type": "stream",
     "text": [
      "4 2\n"
     ]
    },
    {
     "ename": "IndexError",
     "evalue": "list index out of range",
     "output_type": "error",
     "traceback": [
      "\u001b[1;31m---------------------------------------------------------------------------\u001b[0m",
      "\u001b[1;31mIndexError\u001b[0m                                Traceback (most recent call last)",
      "\u001b[1;32m<ipython-input-34-02c4a7f32d68>\u001b[0m in \u001b[0;36m<module>\u001b[1;34m\u001b[0m\n\u001b[0;32m     16\u001b[0m \u001b[1;32mif\u001b[0m \u001b[0mbool\u001b[0m\u001b[1;33m:\u001b[0m\u001b[1;33m\u001b[0m\u001b[1;33m\u001b[0m\u001b[0m\n\u001b[0;32m     17\u001b[0m     \u001b[1;32mfor\u001b[0m \u001b[0mi\u001b[0m \u001b[1;32min\u001b[0m \u001b[0mkey\u001b[0m\u001b[1;33m:\u001b[0m\u001b[1;33m\u001b[0m\u001b[1;33m\u001b[0m\u001b[0m\n\u001b[1;32m---> 18\u001b[1;33m             \u001b[1;32mfor\u001b[0m \u001b[0mj\u001b[0m \u001b[1;32min\u001b[0m \u001b[0mrange\u001b[0m\u001b[1;33m(\u001b[0m\u001b[0mx\u001b[0m\u001b[1;33m.\u001b[0m\u001b[0mindex\u001b[0m\u001b[1;33m(\u001b[0m\u001b[0mi\u001b[0m\u001b[1;33m)\u001b[0m\u001b[1;33m,\u001b[0m\u001b[0mx\u001b[0m\u001b[1;33m.\u001b[0m\u001b[0mindex\u001b[0m\u001b[1;33m(\u001b[0m\u001b[0mi\u001b[0m\u001b[1;33m)\u001b[0m\u001b[1;33m+\u001b[0m\u001b[0mval\u001b[0m\u001b[1;33m[\u001b[0m\u001b[0mx\u001b[0m\u001b[1;33m.\u001b[0m\u001b[0mindex\u001b[0m\u001b[1;33m(\u001b[0m\u001b[0mi\u001b[0m\u001b[1;33m)\u001b[0m\u001b[1;33m]\u001b[0m\u001b[1;33m)\u001b[0m\u001b[1;33m:\u001b[0m\u001b[1;33m\u001b[0m\u001b[1;33m\u001b[0m\u001b[0m\n\u001b[0m\u001b[0;32m     19\u001b[0m                 \u001b[1;32mif\u001b[0m \u001b[0mx\u001b[0m\u001b[1;33m[\u001b[0m\u001b[0mj\u001b[0m\u001b[1;33m]\u001b[0m\u001b[1;33m!=\u001b[0m\u001b[0mi\u001b[0m\u001b[1;33m:\u001b[0m\u001b[1;33m\u001b[0m\u001b[1;33m\u001b[0m\u001b[0m\n\u001b[0;32m     20\u001b[0m                     \u001b[0mg\u001b[0m\u001b[1;33m=\u001b[0m\u001b[1;32mFalse\u001b[0m\u001b[1;33m\u001b[0m\u001b[1;33m\u001b[0m\u001b[0m\n",
      "\u001b[1;31mIndexError\u001b[0m: list index out of range"
     ]
    }
   ],
   "source": [
    "import collections\n",
    "import sys\n",
    "x=[1,4,4,2,2,2]\n",
    "freq=[]\n",
    "bool=True\n",
    "g=True\n",
    "dict=collections.Counter(x)\n",
    "key=list(dict.keys())\n",
    "val=list(dict.values())\n",
    "print(key[1],val[1])\n",
    "for k,v in dict.items():\n",
    "    freq.append(v)\n",
    "for i in collections.Counter(freq).values():\n",
    "    if i!=1:\n",
    "        bool=False\n",
    "if bool:\n",
    "    for i in key:\n",
    "            for j in range(x.index(i),x.index(i)+val[x.index(i)]):\n",
    "                if x[j]!=i:\n",
    "                    g=False\n",
    "                    print('no')\n",
    "                    break\n",
    "\n",
    "    if g:\n",
    "        print('yes')\n",
    "\n",
    "else:\n",
    "    print('no')\n"
   ]
  },
  {
   "cell_type": "code",
   "execution_count": 14,
   "id": "08ffc452",
   "metadata": {},
   "outputs": [
    {
     "name": "stdout",
     "output_type": "stream",
     "text": [
      "['a', 'an', 'ana', 'anan', 'anana']\n",
      "[3, 2, 1, 1, 1]\n",
      "8\n",
      "__________________----------------------______________________\n",
      "['b', 'ba', 'ban', 'bana', 'banan', 'banana', 'n', 'na', 'nan', 'nana']\n",
      "[1, 1, 1, 1, 1, 1, 2, 2, 1, 1]\n",
      "12\n",
      "['a'] ['b', 'n']\n"
     ]
    }
   ],
   "source": [
    "s='banana'\n",
    "\n",
    "l=list(s)\n",
    "vo=[]\n",
    "co=[]\n",
    "for i in l:\n",
    "    if i.lower() in 'aeiou':\n",
    "        if i not in vo:vo.append(i)\n",
    "    else:\n",
    "        if i not in co:\n",
    "            co.append(i)\n",
    "tom=[]#vowel\n",
    "x=[]\n",
    "jerry=[]#consonetnt\n",
    "y=[]\n",
    "for k in vo:\n",
    "    for i in range(1,len(s)-l.index(k)+1):\n",
    "        tom.append(s[l.index(k):l.index(k)+i])\n",
    "        x.append(s.count(s[l.index(k):l.index(k)+i]))\n",
    "        \n",
    "for k in co:\n",
    "    for i in range(1,len(s)-l.index(k)+1):\n",
    "        jerry.append(s[l.index(k):l.index(k)+i])\n",
    "        y.append(s.count(s[l.index(k):l.index(k)+i]))\n",
    "        \n",
    "print(tom)\n",
    "print(x)\n",
    "print(sum(x))\n",
    "print('__________________----------------------______________________')\n",
    "print(jerry)\n",
    "print(y)\n",
    "print(sum(y))\n",
    "\n",
    "print(vo,co)\n"
   ]
  },
  {
   "cell_type": "code",
   "execution_count": 15,
   "id": "93bd106a",
   "metadata": {},
   "outputs": [
    {
     "name": "stdout",
     "output_type": "stream",
     "text": [
      "Stuart 21\n"
     ]
    }
   ],
   "source": [
    "string='banana'\n",
    "vowels = ('A', 'E', 'I', 'O', 'U')\n",
    "n = len(string)\n",
    "total = n*(n+1)/2\n",
    "    \n",
    "k = sum([n-i for i in range(n) if string[i] in vowels])\n",
    "s = total-k\n",
    "       \n",
    "if k==s:\n",
    "        print(\"Draw\")\n",
    "elif k>s:\n",
    "        print(f\"Kevin {int(k)}\")\n",
    "else:\n",
    "        print(f\"Stuart {int(s)}\")"
   ]
  },
  {
   "cell_type": "code",
   "execution_count": 3,
   "id": "b1455424",
   "metadata": {},
   "outputs": [
    {
     "name": "stdout",
     "output_type": "stream",
     "text": [
      "[2, 2, 2]\n",
      "[2, 2, 2]\n",
      "[2, 2, 2]\n",
      "2\n",
      "[[2, 2, 0], [2, 2, 0], [2, 2, 0]]\n",
      "[2, 2, 0]\n",
      "[2, 2, 0]\n",
      "[2, 2, 0]\n",
      "[4 4 0]\n",
      "[4 4 0]\n",
      "[4 4 0]\n"
     ]
    }
   ],
   "source": [
    "import numpy as np\n",
    "n=3\n",
    "a=2\n",
    "x=[[a]*n]*n\n",
    "for i in range(n):\n",
    "    print(x[i])\n",
    "\n",
    "print(x[0][n-1])\n",
    "temp=x[0][n-1]\n",
    "x[0][2]=0\n",
    "print(x)\n",
    "for i in range(n):\n",
    "    print(x[i])\n",
    "x=np.array(x)       \n",
    "x=x*temp\n",
    "for i in range(n):\n",
    "    print(x[i])\n",
    "            \n",
    "    "
   ]
  },
  {
   "cell_type": "code",
   "execution_count": 14,
   "id": "60b5a6d4",
   "metadata": {},
   "outputs": [
    {
     "name": "stdout",
     "output_type": "stream",
     "text": [
      "[[4 4 0]\n",
      " [4 4 4]\n",
      " [4 4 4]]\n",
      "[2]\n"
     ]
    },
    {
     "ename": "IndexError",
     "evalue": "index 3 is out of bounds for axis 0 with size 3",
     "output_type": "error",
     "traceback": [
      "\u001b[1;31m---------------------------------------------------------------------------\u001b[0m",
      "\u001b[1;31mIndexError\u001b[0m                                Traceback (most recent call last)",
      "\u001b[1;32m<ipython-input-14-8839f2008898>\u001b[0m in \u001b[0;36m<module>\u001b[1;34m\u001b[0m\n\u001b[0;32m     13\u001b[0m \u001b[1;32mfor\u001b[0m \u001b[0mi\u001b[0m \u001b[1;32min\u001b[0m \u001b[0mrange\u001b[0m\u001b[1;33m(\u001b[0m\u001b[0mn\u001b[0m\u001b[1;33m)\u001b[0m\u001b[1;33m:\u001b[0m\u001b[1;33m\u001b[0m\u001b[1;33m\u001b[0m\u001b[0m\n\u001b[0;32m     14\u001b[0m     \u001b[1;32mfor\u001b[0m \u001b[0mj\u001b[0m \u001b[1;32min\u001b[0m \u001b[0mrange\u001b[0m\u001b[1;33m(\u001b[0m\u001b[0mn\u001b[0m\u001b[1;33m)\u001b[0m\u001b[1;33m:\u001b[0m\u001b[1;33m\u001b[0m\u001b[1;33m\u001b[0m\u001b[0m\n\u001b[1;32m---> 15\u001b[1;33m         \u001b[1;32mif\u001b[0m \u001b[1;33m(\u001b[0m\u001b[0mi\u001b[0m\u001b[1;33m==\u001b[0m\u001b[1;36m0\u001b[0m \u001b[1;32mand\u001b[0m \u001b[0mx\u001b[0m\u001b[1;33m[\u001b[0m\u001b[0mi\u001b[0m\u001b[1;33m]\u001b[0m\u001b[1;33m[\u001b[0m\u001b[0mj\u001b[0m\u001b[1;33m+\u001b[0m\u001b[1;36m1\u001b[0m\u001b[1;33m]\u001b[0m\u001b[1;33m==\u001b[0m\u001b[1;36m0\u001b[0m\u001b[1;33m)\u001b[0m \u001b[1;32mor\u001b[0m \u001b[1;33m(\u001b[0m\u001b[0mi\u001b[0m\u001b[1;33m==\u001b[0m\u001b[0mj\u001b[0m\u001b[1;33m)\u001b[0m \u001b[1;32mor\u001b[0m \u001b[1;33m(\u001b[0m\u001b[0mj\u001b[0m\u001b[1;33m==\u001b[0m\u001b[0mn\u001b[0m\u001b[1;33m-\u001b[0m\u001b[1;36m1\u001b[0m \u001b[1;32mand\u001b[0m \u001b[0mx\u001b[0m\u001b[1;33m[\u001b[0m\u001b[0mi\u001b[0m\u001b[1;33m-\u001b[0m\u001b[1;36m1\u001b[0m\u001b[1;33m]\u001b[0m\u001b[1;33m[\u001b[0m\u001b[0mj\u001b[0m\u001b[1;33m]\u001b[0m\u001b[1;33m)\u001b[0m\u001b[1;33m:\u001b[0m\u001b[1;33m\u001b[0m\u001b[1;33m\u001b[0m\u001b[0m\n\u001b[0m\u001b[0;32m     16\u001b[0m             \u001b[0mtemp\u001b[0m\u001b[1;33m=\u001b[0m\u001b[0mx\u001b[0m\u001b[1;33m[\u001b[0m\u001b[0mi\u001b[0m\u001b[1;33m]\u001b[0m\u001b[1;33m[\u001b[0m\u001b[0mj\u001b[0m\u001b[1;33m]\u001b[0m\u001b[1;33m\u001b[0m\u001b[1;33m\u001b[0m\u001b[0m\n\u001b[0;32m     17\u001b[0m             \u001b[0mctr\u001b[0m\u001b[1;33m+=\u001b[0m\u001b[1;36m1\u001b[0m\u001b[1;33m\u001b[0m\u001b[1;33m\u001b[0m\u001b[0m\n",
      "\u001b[1;31mIndexError\u001b[0m: index 3 is out of bounds for axis 0 with size 3"
     ]
    }
   ],
   "source": [
    "import numpy as np\n",
    "x=[[2,2,2],[2,2,2],[2,2,2]]\n",
    "temp=x[0][2]\n",
    "x[0][2]=0\n",
    "ans=[] \n",
    "ans.append(temp)\n",
    "x=np.array(x)       \n",
    "x=x*temp\n",
    "print(x)\n",
    "print(ans)\n",
    "ctr=0\n",
    "x=list(x)\n",
    "for i in range(n):\n",
    "    for j in range(n):\n",
    "        if (i==0 and x[i][j+1]==0) or (i==j) or (j==n-1 and x[i-1][j]):\n",
    "            temp=x[i][j]\n",
    "            ctr+=1\n",
    "            x[i][j]=0\n",
    "    ans.append(temp**ctr)\n",
    "    x=x*temp\n",
    "    \n",
    "            \n",
    "print(x)\n",
    "print(ans)        \n"
   ]
  },
  {
   "cell_type": "code",
   "execution_count": 24,
   "id": "fa7de5da",
   "metadata": {},
   "outputs": [
    {
     "name": "stdout",
     "output_type": "stream",
     "text": [
      "[8, 5, 4, 3, 2, 1]\n",
      "2\n"
     ]
    }
   ],
   "source": [
    "a=[5, 3 ,2 ,8 ,4 ,1]\n",
    "ctr=[]\n",
    "temp=a.copy()\n",
    "temp.sort(reverse=True)\n",
    "for i in range(len(a)):\n",
    "    x=temp[0:i]\n",
    "    if sum(x)>=sum(temp[i:]):\n",
    "\n",
    "        ctr.append(len(x))\n",
    "\n",
    "\n",
    "                \n",
    "return(min(ctr))"
   ]
  },
  {
   "cell_type": "code",
   "execution_count": 25,
   "id": "9b120766",
   "metadata": {},
   "outputs": [
    {
     "name": "stdout",
     "output_type": "stream",
     "text": [
      "23\n"
     ]
    }
   ],
   "source": [
    "a=[5, 3 ,2 ,8 ,4 ,1]\n",
    "m=sum(a)\n",
    "temp=a.copy()\n",
    "temp.sort(reverse=True)\n",
    "for i in range(len(temp)):\n",
    "    if "
   ]
  },
  {
   "cell_type": "code",
   "execution_count": 26,
   "id": "b5c0817a",
   "metadata": {},
   "outputs": [
    {
     "name": "stdout",
     "output_type": "stream",
     "text": [
      "erdii\n"
     ]
    }
   ],
   "source": [
    "0\n",
    "\n",
    "def findSubstring(s, k):\n",
    "    vowels = \"aeiou\"\n",
    "    return_output = [\"Not found!\"]\n",
    "    max_countt = 0\n",
    "    \n",
    "    # loop size such that index don't gets out of range\n",
    "    length = len(s)-k+1\n",
    "    for i in range(length):  \n",
    "\n",
    "        # temporary storage of vowel count\n",
    "        sum_count = 0  \n",
    "\n",
    "        # getting string of desire size\n",
    "        output = s[i:i+k]\n",
    "\n",
    "        # count of vowels in the string\n",
    "        for vowel in vowels:\n",
    "            sum_count += output.count(vowel) \n",
    "\n",
    "        # if vowels in the string is greater than string having max vowels\n",
    "        # replace the max vowel string and number of max vowel count\n",
    "        if max_countt < sum_count:\n",
    "            return_output = output\n",
    "            max_countt = sum_count\n",
    "    \n",
    "    # return output\n",
    "    return \"\".join(return_output)\n",
    "\n",
    "print(findSubstring(\"azerdii\", 5))"
   ]
  },
  {
   "cell_type": "code",
   "execution_count": 27,
   "id": "375baed3",
   "metadata": {},
   "outputs": [
    {
     "name": "stdout",
     "output_type": "stream",
     "text": [
      "['azerd', 'zerdi', 'erdii']\n",
      "{'azerd': 2, 'zerdi': 2, 'erdii': 3}\n",
      "Substring is:  erdii\n"
     ]
    }
   ],
   "source": [
    "#fetch all substrings\n",
    "string_is = 'azerdii'\n",
    "sub = 5\n",
    "length = len(string_is)\n",
    "sub_ar = [string_is[i:j+1] for i in range(length) for j in range(i,length)]\n",
    "#print(sub_ar)\n",
    "\n",
    "#fetch substrings of a length = 5\n",
    "sub_ar_is = []\n",
    "for each in sub_ar:\n",
    "  if len(each) == 5:\n",
    "    sub_ar_is.append(each)\n",
    "print(sub_ar_is)\n",
    "data_dict = {}\n",
    "data = ['a','e','i','o','u']\n",
    "for each in sub_ar_is:\n",
    "  count = 0\n",
    "  for each_is in data:\n",
    "    count = count + each.count(each_is)\n",
    "  data_dict.update({each:count})\n",
    "\n",
    "print(data_dict)\n",
    "print(\"Substring is: \", max(data_dict, key=data_dict.get))"
   ]
  },
  {
   "cell_type": "code",
   "execution_count": 6,
   "id": "c645cac1",
   "metadata": {},
   "outputs": [
    {
     "name": "stdout",
     "output_type": "stream",
     "text": [
      "[[30, 24, 18], [84, 69, 54], [138, 114, 90]]\n"
     ]
    }
   ],
   "source": [
    "a=[[1,2,3],[4,5,6],[7,8,9]]\n",
    "b=[[9,8,7],[6,5,4],[3,2,1]]\n",
    "temp,temp2=[],[]\n",
    "ans=[]\n",
    "for i in range (3):\n",
    "    for j in range(3):\n",
    "        for k in range(3):\n",
    "            temp.append(a[i][k]*b[k][j])\n",
    "        #print(temp)\n",
    "        temp2.append(sum(temp))\n",
    "        temp=[]\n",
    "    ans.append(temp2)\n",
    "    temp2=[]\n",
    "    \n",
    "print(ans)"
   ]
  },
  {
   "cell_type": "code",
   "execution_count": 16,
   "id": "3ca78039",
   "metadata": {},
   "outputs": [
    {
     "name": "stdout",
     "output_type": "stream",
     "text": [
      "[[0, 1, 0, 0], [0, 0, 1, 1], [0, 0, 0, 0], [0, 0, 0, 0]]\n"
     ]
    }
   ],
   "source": [
    "n=4\n",
    "m=3\n",
    "e=[[1,2],[2,3],[2,4]]\n",
    "visited=[]\n",
    "p=[]\n",
    "new=[]\n",
    "temp=[]\n",
    "for i in range(n):\n",
    "    for j in range(n):\n",
    "        temp.append(0)\n",
    "    new.append(temp)\n",
    "    temp=[]\n",
    "for i in e:\n",
    "    x=i[0]-1\n",
    "    y=i[1]-1\n",
    "    new[x][y]=1\n",
    "    \n",
    "print(new)        \n",
    "\n"
   ]
  },
  {
   "cell_type": "code",
   "execution_count": 17,
   "id": "286cd6bf",
   "metadata": {},
   "outputs": [
    {
     "name": "stdout",
     "output_type": "stream",
     "text": [
      "Requirement already satisfied: gtts in c:\\users\\91814\\appdata\\local\\programs\\python\\python39\\lib\\site-packages (2.2.4)"
     ]
    },
    {
     "name": "stderr",
     "output_type": "stream",
     "text": [
      "WARNING: Ignoring invalid distribution -otobuf (c:\\users\\91814\\appdata\\local\\programs\\python\\python39\\lib\\site-packages)\n",
      "WARNING: Ignoring invalid distribution -rotobuf (c:\\users\\91814\\appdata\\local\\programs\\python\\python39\\lib\\site-packages)\n",
      "WARNING: Ignoring invalid distribution -otobuf (c:\\users\\91814\\appdata\\local\\programs\\python\\python39\\lib\\site-packages)\n",
      "WARNING: Ignoring invalid distribution -0otobuf (c:\\users\\91814\\appdata\\local\\programs\\python\\python39\\lib\\site-packages)\n",
      "WARNING: Ignoring invalid distribution - (c:\\users\\91814\\appdata\\local\\programs\\python\\python39\\lib\\site-packages)\n",
      "WARNING: Ignoring invalid distribution -otobuf (c:\\users\\91814\\appdata\\local\\programs\\python\\python39\\lib\\site-packages)\n",
      "WARNING: Ignoring invalid distribution -rotobuf (c:\\users\\91814\\appdata\\local\\programs\\python\\python39\\lib\\site-packages)\n",
      "WARNING: Ignoring invalid distribution -otobuf (c:\\users\\91814\\appdata\\local\\programs\\python\\python39\\lib\\site-packages)\n",
      "WARNING: Ignoring invalid distribution -0otobuf (c:\\users\\91814\\appdata\\local\\programs\\python\\python39\\lib\\site-packages)\n",
      "WARNING: Ignoring invalid distribution - (c:\\users\\91814\\appdata\\local\\programs\\python\\python39\\lib\\site-packages)\n",
      "WARNING: Ignoring invalid distribution -otobuf (c:\\users\\91814\\appdata\\local\\programs\\python\\python39\\lib\\site-packages)\n",
      "WARNING: Ignoring invalid distribution -rotobuf (c:\\users\\91814\\appdata\\local\\programs\\python\\python39\\lib\\site-packages)\n",
      "WARNING: Ignoring invalid distribution -otobuf (c:\\users\\91814\\appdata\\local\\programs\\python\\python39\\lib\\site-packages)\n",
      "WARNING: Ignoring invalid distribution -0otobuf (c:\\users\\91814\\appdata\\local\\programs\\python\\python39\\lib\\site-packages)\n",
      "WARNING: Ignoring invalid distribution - (c:\\users\\91814\\appdata\\local\\programs\\python\\python39\\lib\\site-packages)\n",
      "WARNING: Ignoring invalid distribution -otobuf (c:\\users\\91814\\appdata\\local\\programs\\python\\python39\\lib\\site-packages)\n",
      "WARNING: Ignoring invalid distribution -rotobuf (c:\\users\\91814\\appdata\\local\\programs\\python\\python39\\lib\\site-packages)\n",
      "WARNING: Ignoring invalid distribution -otobuf (c:\\users\\91814\\appdata\\local\\programs\\python\\python39\\lib\\site-packages)\n",
      "WARNING: Ignoring invalid distribution -0otobuf (c:\\users\\91814\\appdata\\local\\programs\\python\\python39\\lib\\site-packages)\n",
      "WARNING: Ignoring invalid distribution - (c:\\users\\91814\\appdata\\local\\programs\\python\\python39\\lib\\site-packages)\n",
      "WARNING: Ignoring invalid distribution -otobuf (c:\\users\\91814\\appdata\\local\\programs\\python\\python39\\lib\\site-packages)\n",
      "WARNING: Ignoring invalid distribution -rotobuf (c:\\users\\91814\\appdata\\local\\programs\\python\\python39\\lib\\site-packages)\n",
      "WARNING: Ignoring invalid distribution -otobuf (c:\\users\\91814\\appdata\\local\\programs\\python\\python39\\lib\\site-packages)\n",
      "WARNING: Ignoring invalid distribution -0otobuf (c:\\users\\91814\\appdata\\local\\programs\\python\\python39\\lib\\site-packages)\n",
      "WARNING: Ignoring invalid distribution - (c:\\users\\91814\\appdata\\local\\programs\\python\\python39\\lib\\site-packages)\n",
      "WARNING: Ignoring invalid distribution -otobuf (c:\\users\\91814\\appdata\\local\\programs\\python\\python39\\lib\\site-packages)\n",
      "WARNING: Ignoring invalid distribution -rotobuf (c:\\users\\91814\\appdata\\local\\programs\\python\\python39\\lib\\site-packages)\n",
      "WARNING: Ignoring invalid distribution -otobuf (c:\\users\\91814\\appdata\\local\\programs\\python\\python39\\lib\\site-packages)\n",
      "WARNING: Ignoring invalid distribution -0otobuf (c:\\users\\91814\\appdata\\local\\programs\\python\\python39\\lib\\site-packages)\n",
      "WARNING: Ignoring invalid distribution - (c:\\users\\91814\\appdata\\local\\programs\\python\\python39\\lib\\site-packages)\n",
      "\n",
      "[notice] A new release of pip available: 22.2.2 -> 22.3\n",
      "[notice] To update, run: python.exe -m pip install --upgrade pip\n"
     ]
    },
    {
     "name": "stdout",
     "output_type": "stream",
     "text": [
      "\n",
      "Requirement already satisfied: six in c:\\users\\91814\\appdata\\local\\programs\\python\\python39\\lib\\site-packages (from gtts) (1.15.0)\n",
      "Requirement already satisfied: requests in c:\\users\\91814\\appdata\\local\\programs\\python\\python39\\lib\\site-packages (from gtts) (2.27.1)\n",
      "Requirement already satisfied: click in c:\\users\\91814\\appdata\\local\\programs\\python\\python39\\lib\\site-packages (from gtts) (8.1.2)\n",
      "Requirement already satisfied: colorama in c:\\users\\91814\\appdata\\local\\programs\\python\\python39\\lib\\site-packages (from click->gtts) (0.4.4)\n",
      "Requirement already satisfied: certifi>=2017.4.17 in c:\\users\\91814\\appdata\\local\\programs\\python\\python39\\lib\\site-packages (from requests->gtts) (2021.10.8)\n",
      "Requirement already satisfied: idna<4,>=2.5 in c:\\users\\91814\\appdata\\local\\programs\\python\\python39\\lib\\site-packages (from requests->gtts) (3.3)\n",
      "Requirement already satisfied: charset-normalizer~=2.0.0 in c:\\users\\91814\\appdata\\local\\programs\\python\\python39\\lib\\site-packages (from requests->gtts) (2.0.10)\n",
      "Requirement already satisfied: urllib3<1.27,>=1.21.1 in c:\\users\\91814\\appdata\\local\\programs\\python\\python39\\lib\\site-packages (from requests->gtts) (1.26.8)\n"
     ]
    }
   ],
   "source": [
    "!pip install gtts\n"
   ]
  },
  {
   "cell_type": "code",
   "execution_count": 18,
   "id": "f73b20fe",
   "metadata": {},
   "outputs": [
    {
     "name": "stdout",
     "output_type": "stream",
     "text": [
      "Requirement already satisfied: playsound in c:\\users\\91814\\appdata\\local\\programs\\python\\python39\\lib\\site-packages (1.3.0)\n"
     ]
    },
    {
     "name": "stderr",
     "output_type": "stream",
     "text": [
      "WARNING: Ignoring invalid distribution -otobuf (c:\\users\\91814\\appdata\\local\\programs\\python\\python39\\lib\\site-packages)\n",
      "WARNING: Ignoring invalid distribution -rotobuf (c:\\users\\91814\\appdata\\local\\programs\\python\\python39\\lib\\site-packages)\n",
      "WARNING: Ignoring invalid distribution -otobuf (c:\\users\\91814\\appdata\\local\\programs\\python\\python39\\lib\\site-packages)\n",
      "WARNING: Ignoring invalid distribution -0otobuf (c:\\users\\91814\\appdata\\local\\programs\\python\\python39\\lib\\site-packages)\n",
      "WARNING: Ignoring invalid distribution - (c:\\users\\91814\\appdata\\local\\programs\\python\\python39\\lib\\site-packages)\n",
      "WARNING: Ignoring invalid distribution -otobuf (c:\\users\\91814\\appdata\\local\\programs\\python\\python39\\lib\\site-packages)\n",
      "WARNING: Ignoring invalid distribution -rotobuf (c:\\users\\91814\\appdata\\local\\programs\\python\\python39\\lib\\site-packages)\n",
      "WARNING: Ignoring invalid distribution -otobuf (c:\\users\\91814\\appdata\\local\\programs\\python\\python39\\lib\\site-packages)\n",
      "WARNING: Ignoring invalid distribution -0otobuf (c:\\users\\91814\\appdata\\local\\programs\\python\\python39\\lib\\site-packages)\n",
      "WARNING: Ignoring invalid distribution - (c:\\users\\91814\\appdata\\local\\programs\\python\\python39\\lib\\site-packages)\n",
      "WARNING: Ignoring invalid distribution -otobuf (c:\\users\\91814\\appdata\\local\\programs\\python\\python39\\lib\\site-packages)\n",
      "WARNING: Ignoring invalid distribution -rotobuf (c:\\users\\91814\\appdata\\local\\programs\\python\\python39\\lib\\site-packages)\n",
      "WARNING: Ignoring invalid distribution -otobuf (c:\\users\\91814\\appdata\\local\\programs\\python\\python39\\lib\\site-packages)\n",
      "WARNING: Ignoring invalid distribution -0otobuf (c:\\users\\91814\\appdata\\local\\programs\\python\\python39\\lib\\site-packages)\n",
      "WARNING: Ignoring invalid distribution - (c:\\users\\91814\\appdata\\local\\programs\\python\\python39\\lib\\site-packages)\n",
      "WARNING: Ignoring invalid distribution -otobuf (c:\\users\\91814\\appdata\\local\\programs\\python\\python39\\lib\\site-packages)\n",
      "WARNING: Ignoring invalid distribution -rotobuf (c:\\users\\91814\\appdata\\local\\programs\\python\\python39\\lib\\site-packages)\n",
      "WARNING: Ignoring invalid distribution -otobuf (c:\\users\\91814\\appdata\\local\\programs\\python\\python39\\lib\\site-packages)\n",
      "WARNING: Ignoring invalid distribution -0otobuf (c:\\users\\91814\\appdata\\local\\programs\\python\\python39\\lib\\site-packages)\n",
      "WARNING: Ignoring invalid distribution - (c:\\users\\91814\\appdata\\local\\programs\\python\\python39\\lib\\site-packages)\n",
      "WARNING: Ignoring invalid distribution -otobuf (c:\\users\\91814\\appdata\\local\\programs\\python\\python39\\lib\\site-packages)\n",
      "WARNING: Ignoring invalid distribution -rotobuf (c:\\users\\91814\\appdata\\local\\programs\\python\\python39\\lib\\site-packages)\n",
      "WARNING: Ignoring invalid distribution -otobuf (c:\\users\\91814\\appdata\\local\\programs\\python\\python39\\lib\\site-packages)\n",
      "WARNING: Ignoring invalid distribution -0otobuf (c:\\users\\91814\\appdata\\local\\programs\\python\\python39\\lib\\site-packages)\n",
      "WARNING: Ignoring invalid distribution - (c:\\users\\91814\\appdata\\local\\programs\\python\\python39\\lib\\site-packages)\n",
      "WARNING: Ignoring invalid distribution -otobuf (c:\\users\\91814\\appdata\\local\\programs\\python\\python39\\lib\\site-packages)\n",
      "WARNING: Ignoring invalid distribution -rotobuf (c:\\users\\91814\\appdata\\local\\programs\\python\\python39\\lib\\site-packages)\n",
      "WARNING: Ignoring invalid distribution -otobuf (c:\\users\\91814\\appdata\\local\\programs\\python\\python39\\lib\\site-packages)\n",
      "WARNING: Ignoring invalid distribution -0otobuf (c:\\users\\91814\\appdata\\local\\programs\\python\\python39\\lib\\site-packages)\n",
      "WARNING: Ignoring invalid distribution - (c:\\users\\91814\\appdata\\local\\programs\\python\\python39\\lib\\site-packages)\n",
      "\n",
      "[notice] A new release of pip available: 22.2.2 -> 22.3\n",
      "[notice] To update, run: python.exe -m pip install --upgrade pip\n"
     ]
    }
   ],
   "source": [
    "!pip install playsound"
   ]
  },
  {
   "cell_type": "code",
   "execution_count": 19,
   "id": "1eeb26df",
   "metadata": {},
   "outputs": [
    {
     "name": "stderr",
     "output_type": "stream",
     "text": [
      "\n",
      "    Error 263 for command:\n",
      "        open speech.mp3\n",
      "    The specified device is not open or is not recognized by MCI.\n",
      "\n",
      "    Error 263 for command:\n",
      "        close speech.mp3\n",
      "    The specified device is not open or is not recognized by MCI.\n",
      "Failed to close the file: speech.mp3\n"
     ]
    },
    {
     "ename": "PlaysoundException",
     "evalue": "\n    Error 263 for command:\n        open speech.mp3\n    The specified device is not open or is not recognized by MCI.",
     "output_type": "error",
     "traceback": [
      "\u001b[1;31m---------------------------------------------------------------------------\u001b[0m",
      "\u001b[1;31mPlaysoundException\u001b[0m                        Traceback (most recent call last)",
      "\u001b[1;32m<ipython-input-19-b68ac87aac51>\u001b[0m in \u001b[0;36m<module>\u001b[1;34m\u001b[0m\n\u001b[0;32m      5\u001b[0m \u001b[0msp\u001b[0m\u001b[1;33m=\u001b[0m\u001b[0mgTTS\u001b[0m\u001b[1;33m(\u001b[0m\u001b[0mtext\u001b[0m\u001b[1;33m=\u001b[0m\u001b[1;34m\"hello world\"\u001b[0m\u001b[1;33m,\u001b[0m\u001b[0mlang\u001b[0m\u001b[1;33m=\u001b[0m\u001b[0ml\u001b[0m\u001b[1;33m,\u001b[0m\u001b[0mslow\u001b[0m\u001b[1;33m=\u001b[0m\u001b[1;32mFalse\u001b[0m\u001b[1;33m)\u001b[0m\u001b[1;33m\u001b[0m\u001b[1;33m\u001b[0m\u001b[0m\n\u001b[0;32m      6\u001b[0m \u001b[0msp\u001b[0m\u001b[1;33m.\u001b[0m\u001b[0msave\u001b[0m\u001b[1;33m(\u001b[0m\u001b[0maudio\u001b[0m\u001b[1;33m)\u001b[0m\u001b[1;33m\u001b[0m\u001b[1;33m\u001b[0m\u001b[0m\n\u001b[1;32m----> 7\u001b[1;33m \u001b[0mplaysound\u001b[0m\u001b[1;33m(\u001b[0m\u001b[0maudio\u001b[0m\u001b[1;33m)\u001b[0m\u001b[1;33m\u001b[0m\u001b[1;33m\u001b[0m\u001b[0m\n\u001b[0m",
      "\u001b[1;32mc:\\users\\91814\\appdata\\local\\programs\\python\\python39\\lib\\site-packages\\playsound.py\u001b[0m in \u001b[0;36m_playsoundWin\u001b[1;34m(sound, block)\u001b[0m\n\u001b[0;32m     70\u001b[0m     \u001b[1;32mtry\u001b[0m\u001b[1;33m:\u001b[0m\u001b[1;33m\u001b[0m\u001b[1;33m\u001b[0m\u001b[0m\n\u001b[0;32m     71\u001b[0m         \u001b[0mlogger\u001b[0m\u001b[1;33m.\u001b[0m\u001b[0mdebug\u001b[0m\u001b[1;33m(\u001b[0m\u001b[1;34m'Starting'\u001b[0m\u001b[1;33m)\u001b[0m\u001b[1;33m\u001b[0m\u001b[1;33m\u001b[0m\u001b[0m\n\u001b[1;32m---> 72\u001b[1;33m         \u001b[0mwinCommand\u001b[0m\u001b[1;33m(\u001b[0m\u001b[1;34mu'open {}'\u001b[0m\u001b[1;33m.\u001b[0m\u001b[0mformat\u001b[0m\u001b[1;33m(\u001b[0m\u001b[0msound\u001b[0m\u001b[1;33m)\u001b[0m\u001b[1;33m)\u001b[0m\u001b[1;33m\u001b[0m\u001b[1;33m\u001b[0m\u001b[0m\n\u001b[0m\u001b[0;32m     73\u001b[0m         \u001b[0mwinCommand\u001b[0m\u001b[1;33m(\u001b[0m\u001b[1;34mu'play {}{}'\u001b[0m\u001b[1;33m.\u001b[0m\u001b[0mformat\u001b[0m\u001b[1;33m(\u001b[0m\u001b[0msound\u001b[0m\u001b[1;33m,\u001b[0m \u001b[1;34m' wait'\u001b[0m \u001b[1;32mif\u001b[0m \u001b[0mblock\u001b[0m \u001b[1;32melse\u001b[0m \u001b[1;34m''\u001b[0m\u001b[1;33m)\u001b[0m\u001b[1;33m)\u001b[0m\u001b[1;33m\u001b[0m\u001b[1;33m\u001b[0m\u001b[0m\n\u001b[0;32m     74\u001b[0m         \u001b[0mlogger\u001b[0m\u001b[1;33m.\u001b[0m\u001b[0mdebug\u001b[0m\u001b[1;33m(\u001b[0m\u001b[1;34m'Returning'\u001b[0m\u001b[1;33m)\u001b[0m\u001b[1;33m\u001b[0m\u001b[1;33m\u001b[0m\u001b[0m\n",
      "\u001b[1;32mc:\\users\\91814\\appdata\\local\\programs\\python\\python39\\lib\\site-packages\\playsound.py\u001b[0m in \u001b[0;36mwinCommand\u001b[1;34m(*command)\u001b[0m\n\u001b[0;32m     62\u001b[0m                                 '\\n    ' + errorBuffer.raw.decode('utf-16').rstrip('\\0'))\n\u001b[0;32m     63\u001b[0m             \u001b[0mlogger\u001b[0m\u001b[1;33m.\u001b[0m\u001b[0merror\u001b[0m\u001b[1;33m(\u001b[0m\u001b[0mexceptionMessage\u001b[0m\u001b[1;33m)\u001b[0m\u001b[1;33m\u001b[0m\u001b[1;33m\u001b[0m\u001b[0m\n\u001b[1;32m---> 64\u001b[1;33m             \u001b[1;32mraise\u001b[0m \u001b[0mPlaysoundException\u001b[0m\u001b[1;33m(\u001b[0m\u001b[0mexceptionMessage\u001b[0m\u001b[1;33m)\u001b[0m\u001b[1;33m\u001b[0m\u001b[1;33m\u001b[0m\u001b[0m\n\u001b[0m\u001b[0;32m     65\u001b[0m         \u001b[1;32mreturn\u001b[0m \u001b[0mbuf\u001b[0m\u001b[1;33m.\u001b[0m\u001b[0mvalue\u001b[0m\u001b[1;33m\u001b[0m\u001b[1;33m\u001b[0m\u001b[0m\n\u001b[0;32m     66\u001b[0m \u001b[1;33m\u001b[0m\u001b[0m\n",
      "\u001b[1;31mPlaysoundException\u001b[0m: \n    Error 263 for command:\n        open speech.mp3\n    The specified device is not open or is not recognized by MCI."
     ]
    }
   ],
   "source": [
    "from gtts import gTTS\n",
    "from playsound import playsound\n",
    "audio='speech.mp3'\n",
    "l='en'\n",
    "sp=gTTS(text=\"hello world\",lang=l,slow=False)\n",
    "sp.save(audio)\n",
    "playsound(audio)"
   ]
  },
  {
   "cell_type": "code",
   "execution_count": 19,
   "id": "d06193cb",
   "metadata": {},
   "outputs": [
    {
     "name": "stdout",
     "output_type": "stream",
     "text": [
      "[[1, 1], [1, 1], -2, [], [], 3]\n",
      "6\n"
     ]
    }
   ],
   "source": [
    "import math\n",
    "ans=[]\n",
    "w=[]\n",
    "wr=[]    \n",
    "n=3\n",
    "for i in range(1,n):\n",
    "        if (n-i)%2==0:\n",
    "            w.append(i)\n",
    "            w.append((n-i)//2)\n",
    "            wr.append((n-i)//2)\n",
    "            wr.append(i)\n",
    "         \n",
    "        p=i+(n-i)//2\n",
    "        x=math.factorial(p)-2*(math.factorial(i))\n",
    "        if x!=0:\n",
    "            ans.append(x)\n",
    "        ans.append(w)\n",
    "        ans.append(wr)\n",
    "        w=[]\n",
    "        wr=[]\n",
    "\n",
    "ans.append(n)\n",
    "if n%2==0:ans.append(n//2)\n",
    "print(ans)\n",
    "print(len(ans))"
   ]
  },
  {
   "cell_type": "code",
   "execution_count": 36,
   "id": "ecec52fc",
   "metadata": {},
   "outputs": [
    {
     "name": "stdout",
     "output_type": "stream",
     "text": [
      "7\n",
      "3\n",
      "1\n",
      "[3, 1, 0]\n"
     ]
    }
   ],
   "source": [
    "n=7\n",
    "ctr=0\n",
    "ans=[]\n",
    "\n",
    "while (n!=0):\n",
    "    print(n)\n",
    "    if n==1:\n",
    "        ans.append(0)\n",
    "        break\n",
    "    if n%2==0 and n!=1:\n",
    "            n=n-(n//2)\n",
    "            ans.append(n)\n",
    "            continue\n",
    "            \n",
    "    if n%2!=0 or n==1:\n",
    "            n=n-((n+1)//2)\n",
    "            ans.append(n)\n",
    "            continue\n",
    "            \n",
    "        \n",
    "print(ans)"
   ]
  },
  {
   "cell_type": "code",
   "execution_count": null,
   "id": "0a1fa87d",
   "metadata": {},
   "outputs": [],
   "source": [
    "#optimal-merge-pattern"
   ]
  },
  {
   "cell_type": "code",
   "execution_count": 1,
   "id": "c12c90f4",
   "metadata": {},
   "outputs": [
    {
     "name": "stdout",
     "output_type": "stream",
     "text": [
      "205\n",
      "[95]\n"
     ]
    }
   ],
   "source": [
    "l=[20,30,10,5,30]\n",
    "x=[]\n",
    "ans=[]\n",
    "for i in range (0,len(l)):\n",
    "    x.append(l[i])\n",
    "   \n",
    "x.sort()\n",
    "\n",
    "while True:\n",
    "    temp=x[0]+x[1]\n",
    "    ans.append(temp)\n",
    "    x.pop(0)\n",
    "    x.pop(0)\n",
    "    x.append(temp)\n",
    "    x.sort()\n",
    "    if len(x)==1:\n",
    "        break\n",
    "print(sum(ans))\n",
    "print(x)"
   ]
  },
  {
   "cell_type": "code",
   "execution_count": 1,
   "id": "5ddd6ce7",
   "metadata": {},
   "outputs": [
    {
     "name": "stdout",
     "output_type": "stream",
     "text": [
      "Collecting big-o-calculator\n",
      "  Downloading big_O_calculator-0.0.9.8.4-py3-none-any.whl (21 kB)\n",
      "Collecting win10toast\n",
      "  Downloading win10toast-0.9-py2.py3-none-any.whl (21 kB)\n",
      "Collecting pypiwin32\n",
      "  Downloading pypiwin32-223-py3-none-any.whl (1.7 kB)\n",
      "Requirement already satisfied: setuptools in c:\\users\\91814\\appdata\\local\\programs\\python\\python39\\lib\\site-packages (from win10toast->big-o-calculator) (49.2.1)\n",
      "Requirement already satisfied: pywin32>=223 in c:\\users\\91814\\appdata\\local\\programs\\python\\python39\\lib\\site-packages (from pypiwin32->win10toast->big-o-calculator) (300)\n",
      "Installing collected packages: pypiwin32, win10toast, big-o-calculator\n",
      "Successfully installed big-o-calculator-0.0.9.8.4 pypiwin32-223 win10toast-0.9\n"
     ]
    },
    {
     "name": "stderr",
     "output_type": "stream",
     "text": [
      "WARNING: Ignoring invalid distribution -otobuf (c:\\users\\91814\\appdata\\local\\programs\\python\\python39\\lib\\site-packages)\n",
      "WARNING: Ignoring invalid distribution -rotobuf (c:\\users\\91814\\appdata\\local\\programs\\python\\python39\\lib\\site-packages)\n",
      "WARNING: Ignoring invalid distribution -otobuf (c:\\users\\91814\\appdata\\local\\programs\\python\\python39\\lib\\site-packages)\n",
      "WARNING: Ignoring invalid distribution -0otobuf (c:\\users\\91814\\appdata\\local\\programs\\python\\python39\\lib\\site-packages)\n",
      "WARNING: Ignoring invalid distribution - (c:\\users\\91814\\appdata\\local\\programs\\python\\python39\\lib\\site-packages)\n",
      "WARNING: Ignoring invalid distribution -otobuf (c:\\users\\91814\\appdata\\local\\programs\\python\\python39\\lib\\site-packages)\n",
      "WARNING: Ignoring invalid distribution -rotobuf (c:\\users\\91814\\appdata\\local\\programs\\python\\python39\\lib\\site-packages)\n",
      "WARNING: Ignoring invalid distribution -otobuf (c:\\users\\91814\\appdata\\local\\programs\\python\\python39\\lib\\site-packages)\n",
      "WARNING: Ignoring invalid distribution -0otobuf (c:\\users\\91814\\appdata\\local\\programs\\python\\python39\\lib\\site-packages)\n",
      "WARNING: Ignoring invalid distribution - (c:\\users\\91814\\appdata\\local\\programs\\python\\python39\\lib\\site-packages)\n",
      "WARNING: Ignoring invalid distribution -otobuf (c:\\users\\91814\\appdata\\local\\programs\\python\\python39\\lib\\site-packages)\n",
      "WARNING: Ignoring invalid distribution -rotobuf (c:\\users\\91814\\appdata\\local\\programs\\python\\python39\\lib\\site-packages)\n",
      "WARNING: Ignoring invalid distribution -otobuf (c:\\users\\91814\\appdata\\local\\programs\\python\\python39\\lib\\site-packages)\n",
      "WARNING: Ignoring invalid distribution -0otobuf (c:\\users\\91814\\appdata\\local\\programs\\python\\python39\\lib\\site-packages)\n",
      "WARNING: Ignoring invalid distribution - (c:\\users\\91814\\appdata\\local\\programs\\python\\python39\\lib\\site-packages)\n",
      "WARNING: Ignoring invalid distribution -otobuf (c:\\users\\91814\\appdata\\local\\programs\\python\\python39\\lib\\site-packages)\n",
      "WARNING: Ignoring invalid distribution -rotobuf (c:\\users\\91814\\appdata\\local\\programs\\python\\python39\\lib\\site-packages)\n",
      "WARNING: Ignoring invalid distribution -otobuf (c:\\users\\91814\\appdata\\local\\programs\\python\\python39\\lib\\site-packages)\n",
      "WARNING: Ignoring invalid distribution -0otobuf (c:\\users\\91814\\appdata\\local\\programs\\python\\python39\\lib\\site-packages)\n",
      "WARNING: Ignoring invalid distribution - (c:\\users\\91814\\appdata\\local\\programs\\python\\python39\\lib\\site-packages)\n",
      "WARNING: Ignoring invalid distribution -otobuf (c:\\users\\91814\\appdata\\local\\programs\\python\\python39\\lib\\site-packages)\n",
      "WARNING: Ignoring invalid distribution -rotobuf (c:\\users\\91814\\appdata\\local\\programs\\python\\python39\\lib\\site-packages)\n",
      "WARNING: Ignoring invalid distribution -otobuf (c:\\users\\91814\\appdata\\local\\programs\\python\\python39\\lib\\site-packages)\n",
      "WARNING: Ignoring invalid distribution -0otobuf (c:\\users\\91814\\appdata\\local\\programs\\python\\python39\\lib\\site-packages)\n",
      "WARNING: Ignoring invalid distribution - (c:\\users\\91814\\appdata\\local\\programs\\python\\python39\\lib\\site-packages)\n",
      "WARNING: Ignoring invalid distribution -otobuf (c:\\users\\91814\\appdata\\local\\programs\\python\\python39\\lib\\site-packages)\n",
      "WARNING: Ignoring invalid distribution -rotobuf (c:\\users\\91814\\appdata\\local\\programs\\python\\python39\\lib\\site-packages)\n",
      "WARNING: Ignoring invalid distribution -otobuf (c:\\users\\91814\\appdata\\local\\programs\\python\\python39\\lib\\site-packages)\n",
      "WARNING: Ignoring invalid distribution -0otobuf (c:\\users\\91814\\appdata\\local\\programs\\python\\python39\\lib\\site-packages)\n",
      "WARNING: Ignoring invalid distribution - (c:\\users\\91814\\appdata\\local\\programs\\python\\python39\\lib\\site-packages)\n",
      "WARNING: Ignoring invalid distribution -otobuf (c:\\users\\91814\\appdata\\local\\programs\\python\\python39\\lib\\site-packages)\n",
      "WARNING: Ignoring invalid distribution -rotobuf (c:\\users\\91814\\appdata\\local\\programs\\python\\python39\\lib\\site-packages)\n",
      "WARNING: Ignoring invalid distribution -otobuf (c:\\users\\91814\\appdata\\local\\programs\\python\\python39\\lib\\site-packages)\n",
      "WARNING: Ignoring invalid distribution -0otobuf (c:\\users\\91814\\appdata\\local\\programs\\python\\python39\\lib\\site-packages)\n",
      "WARNING: Ignoring invalid distribution - (c:\\users\\91814\\appdata\\local\\programs\\python\\python39\\lib\\site-packages)\n",
      "WARNING: Ignoring invalid distribution -otobuf (c:\\users\\91814\\appdata\\local\\programs\\python\\python39\\lib\\site-packages)\n",
      "WARNING: Ignoring invalid distribution -rotobuf (c:\\users\\91814\\appdata\\local\\programs\\python\\python39\\lib\\site-packages)\n",
      "WARNING: Ignoring invalid distribution -otobuf (c:\\users\\91814\\appdata\\local\\programs\\python\\python39\\lib\\site-packages)\n",
      "WARNING: Ignoring invalid distribution -0otobuf (c:\\users\\91814\\appdata\\local\\programs\\python\\python39\\lib\\site-packages)\n",
      "WARNING: Ignoring invalid distribution - (c:\\users\\91814\\appdata\\local\\programs\\python\\python39\\lib\\site-packages)\n",
      "WARNING: Ignoring invalid distribution -otobuf (c:\\users\\91814\\appdata\\local\\programs\\python\\python39\\lib\\site-packages)\n",
      "WARNING: Ignoring invalid distribution -rotobuf (c:\\users\\91814\\appdata\\local\\programs\\python\\python39\\lib\\site-packages)\n",
      "WARNING: Ignoring invalid distribution -otobuf (c:\\users\\91814\\appdata\\local\\programs\\python\\python39\\lib\\site-packages)\n",
      "WARNING: Ignoring invalid distribution -0otobuf (c:\\users\\91814\\appdata\\local\\programs\\python\\python39\\lib\\site-packages)\n",
      "WARNING: Ignoring invalid distribution - (c:\\users\\91814\\appdata\\local\\programs\\python\\python39\\lib\\site-packages)\n",
      "\n",
      "[notice] A new release of pip available: 22.2.2 -> 22.3\n",
      "[notice] To update, run: python.exe -m pip install --upgrade pip\n"
     ]
    }
   ],
   "source": [
    "!pip install big-o-calculator"
   ]
  },
  {
   "cell_type": "code",
   "execution_count": 2,
   "id": "117d04a0",
   "metadata": {},
   "outputs": [],
   "source": [
    "from bigO import BigO\n",
    "from bigO import algorithm\n",
    "from random import randint"
   ]
  },
  {
   "cell_type": "code",
   "execution_count": 3,
   "id": "f6db1460",
   "metadata": {},
   "outputs": [
    {
     "name": "stdout",
     "output_type": "stream",
     "text": [
      "Enter algorithm name:gagu_beti\n"
     ]
    }
   ],
   "source": [
    "fname=input(\"Enter algorithm name:\")"
   ]
  },
  {
   "cell_type": "code",
   "execution_count": 6,
   "id": "9cb463b7",
   "metadata": {},
   "outputs": [
    {
     "name": "stdout",
     "output_type": "stream",
     "text": [
      "205\n",
      "Running fname(random array)...\n",
      "-328\n",
      "-328\n",
      "-328\n",
      "-328\n",
      "-328\n",
      "-181098\n",
      "-181098\n",
      "-181098\n",
      "-181098\n",
      "-181098\n",
      "-152990199\n",
      "-152990199\n",
      "-152990199\n",
      "-152990199\n",
      "-152990199\n",
      "-166744295161\n",
      "-166744295161\n",
      "-166744295161\n",
      "-166744295161\n",
      "-166744295161\n"
     ]
    },
    {
     "ename": "KeyboardInterrupt",
     "evalue": "",
     "output_type": "error",
     "traceback": [
      "\u001b[1;31m---------------------------------------------------------------------------\u001b[0m",
      "\u001b[1;31mKeyboardInterrupt\u001b[0m                         Traceback (most recent call last)",
      "\u001b[1;32m<ipython-input-6-51c872012d77>\u001b[0m in \u001b[0;36m<module>\u001b[1;34m\u001b[0m\n\u001b[0;32m     27\u001b[0m \u001b[0ml\u001b[0m\u001b[1;33m=\u001b[0m\u001b[1;33m[\u001b[0m\u001b[1;36m20\u001b[0m\u001b[1;33m,\u001b[0m\u001b[1;36m30\u001b[0m\u001b[1;33m,\u001b[0m\u001b[1;36m10\u001b[0m\u001b[1;33m,\u001b[0m\u001b[1;36m5\u001b[0m\u001b[1;33m,\u001b[0m\u001b[1;36m30\u001b[0m\u001b[1;33m]\u001b[0m\u001b[1;33m\u001b[0m\u001b[1;33m\u001b[0m\u001b[0m\n\u001b[0;32m     28\u001b[0m \u001b[0mfname\u001b[0m\u001b[1;33m(\u001b[0m\u001b[0ml\u001b[0m\u001b[1;33m)\u001b[0m\u001b[1;33m\u001b[0m\u001b[1;33m\u001b[0m\u001b[0m\n\u001b[1;32m---> 29\u001b[1;33m \u001b[0mTimeComplexity\u001b[0m\u001b[1;33m(\u001b[0m\u001b[0mfname\u001b[0m\u001b[1;33m)\u001b[0m\u001b[1;33m\u001b[0m\u001b[1;33m\u001b[0m\u001b[0m\n\u001b[0m",
      "\u001b[1;32m<ipython-input-6-51c872012d77>\u001b[0m in \u001b[0;36mTimeComplexity\u001b[1;34m(functionname)\u001b[0m\n\u001b[0;32m     20\u001b[0m \u001b[1;32mdef\u001b[0m \u001b[0mTimeComplexity\u001b[0m\u001b[1;33m(\u001b[0m\u001b[0mfunctionname\u001b[0m\u001b[1;33m)\u001b[0m\u001b[1;33m:\u001b[0m\u001b[1;33m\u001b[0m\u001b[1;33m\u001b[0m\u001b[0m\n\u001b[0;32m     21\u001b[0m     \u001b[0mlib\u001b[0m \u001b[1;33m=\u001b[0m \u001b[0mBigO\u001b[0m\u001b[1;33m(\u001b[0m\u001b[1;33m)\u001b[0m\u001b[1;33m\u001b[0m\u001b[1;33m\u001b[0m\u001b[0m\n\u001b[1;32m---> 22\u001b[1;33m     \u001b[0mcmplx\u001b[0m \u001b[1;33m=\u001b[0m \u001b[0mlib\u001b[0m\u001b[1;33m.\u001b[0m\u001b[0mtest\u001b[0m\u001b[1;33m(\u001b[0m\u001b[0mfunctionname\u001b[0m\u001b[1;33m,\u001b[0m \u001b[1;34m\"random\"\u001b[0m\u001b[1;33m)\u001b[0m\u001b[1;33m\u001b[0m\u001b[1;33m\u001b[0m\u001b[0m\n\u001b[0m\u001b[0;32m     23\u001b[0m     \u001b[0mcmplx\u001b[0m \u001b[1;33m=\u001b[0m \u001b[0mlib\u001b[0m\u001b[1;33m.\u001b[0m\u001b[0mtest\u001b[0m\u001b[1;33m(\u001b[0m\u001b[0mfunctionname\u001b[0m\u001b[1;33m,\u001b[0m \u001b[1;34m\"sorted\"\u001b[0m\u001b[1;33m)\u001b[0m\u001b[1;33m\u001b[0m\u001b[1;33m\u001b[0m\u001b[0m\n\u001b[0;32m     24\u001b[0m     \u001b[0mcmplx\u001b[0m \u001b[1;33m=\u001b[0m \u001b[0mlib\u001b[0m\u001b[1;33m.\u001b[0m\u001b[0mtest\u001b[0m\u001b[1;33m(\u001b[0m\u001b[0mfunctionname\u001b[0m\u001b[1;33m,\u001b[0m \u001b[1;34m\"reversed\"\u001b[0m\u001b[1;33m)\u001b[0m\u001b[1;33m\u001b[0m\u001b[1;33m\u001b[0m\u001b[0m\n",
      "\u001b[1;32mc:\\users\\91814\\appdata\\local\\programs\\python\\python39\\lib\\site-packages\\bigO\\BigO.py\u001b[0m in \u001b[0;36mtest\u001b[1;34m(self, functionName, array, limit, prtResult)\u001b[0m\n\u001b[0;32m    401\u001b[0m             \u001b[1;32mwhile\u001b[0m \u001b[0mcurrentIter\u001b[0m \u001b[1;33m<\u001b[0m \u001b[0mmaxIter\u001b[0m\u001b[1;33m:\u001b[0m\u001b[1;33m\u001b[0m\u001b[1;33m\u001b[0m\u001b[0m\n\u001b[0;32m    402\u001b[0m                 \u001b[0mstart\u001b[0m \u001b[1;33m=\u001b[0m \u001b[0mdefault_timer\u001b[0m\u001b[1;33m(\u001b[0m\u001b[1;33m)\u001b[0m\u001b[1;33m\u001b[0m\u001b[1;33m\u001b[0m\u001b[0m\n\u001b[1;32m--> 403\u001b[1;33m                 \u001b[0mresult\u001b[0m \u001b[1;33m=\u001b[0m \u001b[0mfunctionName\u001b[0m\u001b[1;33m(\u001b[0m\u001b[0mnums\u001b[0m\u001b[1;33m)\u001b[0m\u001b[1;33m\u001b[0m\u001b[1;33m\u001b[0m\u001b[0m\n\u001b[0m\u001b[0;32m    404\u001b[0m                 \u001b[0mend\u001b[0m \u001b[1;33m=\u001b[0m \u001b[0mdefault_timer\u001b[0m\u001b[1;33m(\u001b[0m\u001b[1;33m)\u001b[0m\u001b[1;33m\u001b[0m\u001b[1;33m\u001b[0m\u001b[0m\n\u001b[0;32m    405\u001b[0m                 \u001b[0mtimeTaken\u001b[0m \u001b[1;33m+=\u001b[0m \u001b[0mend\u001b[0m \u001b[1;33m-\u001b[0m \u001b[0mstart\u001b[0m\u001b[1;33m\u001b[0m\u001b[1;33m\u001b[0m\u001b[0m\n",
      "\u001b[1;32m<ipython-input-6-51c872012d77>\u001b[0m in \u001b[0;36mfname\u001b[1;34m(l)\u001b[0m\n\u001b[0;32m     14\u001b[0m         \u001b[0mx\u001b[0m\u001b[1;33m.\u001b[0m\u001b[0mappend\u001b[0m\u001b[1;33m(\u001b[0m\u001b[0mtemp\u001b[0m\u001b[1;33m)\u001b[0m\u001b[1;33m\u001b[0m\u001b[1;33m\u001b[0m\u001b[0m\n\u001b[0;32m     15\u001b[0m         \u001b[0mx\u001b[0m\u001b[1;33m.\u001b[0m\u001b[0msort\u001b[0m\u001b[1;33m(\u001b[0m\u001b[1;33m)\u001b[0m\u001b[1;33m\u001b[0m\u001b[1;33m\u001b[0m\u001b[0m\n\u001b[1;32m---> 16\u001b[1;33m         \u001b[1;32mif\u001b[0m \u001b[0mlen\u001b[0m\u001b[1;33m(\u001b[0m\u001b[0mx\u001b[0m\u001b[1;33m)\u001b[0m\u001b[1;33m==\u001b[0m\u001b[1;36m1\u001b[0m\u001b[1;33m:\u001b[0m\u001b[1;33m\u001b[0m\u001b[1;33m\u001b[0m\u001b[0m\n\u001b[0m\u001b[0;32m     17\u001b[0m             \u001b[1;32mbreak\u001b[0m\u001b[1;33m\u001b[0m\u001b[1;33m\u001b[0m\u001b[0m\n\u001b[0;32m     18\u001b[0m     \u001b[0mprint\u001b[0m\u001b[1;33m(\u001b[0m\u001b[0msum\u001b[0m\u001b[1;33m(\u001b[0m\u001b[0mans\u001b[0m\u001b[1;33m)\u001b[0m\u001b[1;33m)\u001b[0m\u001b[1;33m\u001b[0m\u001b[1;33m\u001b[0m\u001b[0m\n",
      "\u001b[1;31mKeyboardInterrupt\u001b[0m: "
     ]
    }
   ],
   "source": [
    "def fname(l):\n",
    "    x=[]\n",
    "    ans=[]\n",
    "    for i in range (0,len(l)):\n",
    "        x.append(l[i])\n",
    "\n",
    "    x.sort()\n",
    "    flag=True\n",
    "    while True:\n",
    "        temp=x[0]+x[1]\n",
    "        ans.append(temp)\n",
    "        x.pop(0)\n",
    "        x.pop(0)\n",
    "        x.append(temp)\n",
    "        x.sort()\n",
    "        if len(x)==1:\n",
    "            break\n",
    "    print(sum(ans))\n",
    "    \n",
    "def TimeComplexity(functionname):\n",
    "    lib = BigO()\n",
    "    cmplx = lib.test(functionname, \"random\")\n",
    "    cmplx = lib.test(functionname, \"sorted\")\n",
    "    cmplx = lib.test(functionname, \"reversed\")\n",
    "    cmplx = lib.test(functionname, \"partial\")\n",
    "    cmplx = lib.test(functionname, \"Ksorted\")\n",
    "l=[20,30,10,5,30]\n",
    "fname(l)\n",
    "TimeComplexity(fname)"
   ]
  },
  {
   "cell_type": "code",
   "execution_count": null,
   "id": "80bce4db",
   "metadata": {},
   "outputs": [],
   "source": [
    "#knapsack problem=="
   ]
  },
  {
   "cell_type": "code",
   "execution_count": 36,
   "id": "ebf8b049",
   "metadata": {},
   "outputs": [
    {
     "name": "stdout",
     "output_type": "stream",
     "text": [
      "[5.0, 1.6666666666666667, 3.0, 1.0, 6.0, 4.5, 3.0]\n",
      "[6.0, 5.0, 4.5, 3.0, 3.0, 1.6666666666666667, 1.0]\n",
      "14 ----------- 1 ------------- 1\n",
      "12 ----------- 1 ------------- 2\n",
      "8 ----------- 1 ------------- 4\n",
      "3 ----------- 1 ------------- 5\n",
      "0 ----------- 0.6 ------------- 5\n",
      "43.0\n",
      "[1, 0, 0.6, 0, 1, 1, 0]\n"
     ]
    }
   ],
   "source": [
    "p=[10,5,15,7,6,18,3]\n",
    "w=[2,3,5,7,1,4,1]\n",
    "x=[]\n",
    "u=[]\n",
    "q=15\n",
    "sum=0\n",
    "aux=[0]*len(p)\n",
    "for i in range(len(p)):\n",
    "    u.append(p[i]/w[i])   \n",
    "print (u)\n",
    "for i in u:x.append(i)    \n",
    "x.sort(reverse=True)\n",
    "print(x)\n",
    "while True:\n",
    "    px=x[0]\n",
    "    ind=u.index(px)\n",
    "    if w[ind]<q:\n",
    "        aux[ind]=1\n",
    "        q-=w[ind]   \n",
    "        x.pop(0)\n",
    "    else:\n",
    "        aux[ind]=(q)/w[ind]\n",
    "        q=0\n",
    "        x.pop(0)  \n",
    "        \n",
    "    print(q,'-----------',aux[ind],'-------------',w[ind])\n",
    "    if q==0:break\n",
    "    \n",
    "for i in range(len(p)):\n",
    "    sum=sum+(aux[i]*p[i])\n",
    "print(sum)    \n",
    "print(aux)  "
   ]
  },
  {
   "cell_type": "code",
   "execution_count": null,
   "id": "0e041232",
   "metadata": {},
   "outputs": [],
   "source": [
    "#longest common subsequence(dynamic programming approach)"
   ]
  },
  {
   "cell_type": "code",
   "execution_count": 2,
   "id": "9e533265",
   "metadata": {},
   "outputs": [
    {
     "name": "stdout",
     "output_type": "stream",
     "text": [
      "[[0, 0, 0, 0, 0], [0, 0, 1, 1, 1], [0, 0, 1, 1, 2]]\n",
      "2\n"
     ]
    }
   ],
   "source": [
    "x=['a','b','c','d']\n",
    "y=['b','d']\n",
    "t = [ [None]*(len(x)+1) for i in range(len(y)+1)]\n",
    "for i in range(len(y)+1):\n",
    "    for j in range(len(x)+1):\n",
    "        t[i][0]=0\n",
    "        if i==0:\n",
    "            t[i][j]=0\n",
    " \n",
    "for i in range(1,len(y)+1):\n",
    "    for j in range(1,len(x)+1):\n",
    "        if y[i-1]==x[j-1]:\n",
    "            t[i][j]=(1+t[i-1][j-1])\n",
    "            \n",
    "        else:\n",
    "            t[i][j]=max(t[i][j-1],t[i-1][j])\n",
    "print(t)\n",
    "print(max(max(t)))"
   ]
  },
  {
   "cell_type": "code",
   "execution_count": 30,
   "id": "699fede8",
   "metadata": {},
   "outputs": [
    {
     "name": "stdout",
     "output_type": "stream",
     "text": [
      "[6, 2, 2, 2]\n"
     ]
    }
   ],
   "source": [
    "x=[[6,2,2,2],[5,10,10,0]]\n",
    "print(max(x))"
   ]
  },
  {
   "cell_type": "code",
   "execution_count": 41,
   "id": "8c9328e4",
   "metadata": {},
   "outputs": [
    {
     "name": "stdout",
     "output_type": "stream",
     "text": [
      "[1, 2, 3, 3, 5, 6, 6, 9, 9]\n",
      "5\n"
     ]
    }
   ],
   "source": [
    "\n",
    "r=3\n",
    "c=3\n",
    "m = [[1, 3, 5], \n",
    "     [2, 6, 9], \n",
    "     [3, 6, 9]]\n",
    "t=[]\n",
    "for i in range(r):\n",
    "    for j in range (c):\n",
    "        t.append(m[i][j])\n",
    "t.sort()        \n",
    "print(t)\n",
    "if len(t)%2==0:\n",
    "    print((t[len(t)//2]+t[(len(t)-1)//2])//2)\n",
    "else:\n",
    "    print(t[(len(t))//2])"
   ]
  },
  {
   "cell_type": "code",
   "execution_count": 49,
   "id": "4d179903",
   "metadata": {},
   "outputs": [],
   "source": [
    "#zero-one knapsack problem"
   ]
  },
  {
   "cell_type": "code",
   "execution_count": 50,
   "id": "016a65ef",
   "metadata": {},
   "outputs": [
    {
     "name": "stdout",
     "output_type": "stream",
     "text": [
      "[0.25, 0.4, 3.0]\n",
      "[0.4, 0.25]\n",
      "[3]\n",
      "3\n"
     ]
    }
   ],
   "source": [
    "\n",
    "v = [1,2,3]\n",
    "w= [4,5,1]\n",
    "W = 4\n",
    "pw=[]\n",
    "ans=[]\n",
    "x=[]\n",
    "for i in range(len(v)):\n",
    "    pw.append(v[i]/w[i])\n",
    "    x.append(v[i]/w[i])\n",
    " \n",
    "x.sort(reverse=True)\n",
    "for i in range(len(v)):\n",
    "    temp=x[0]\n",
    "    if w[pw.index(temp)]<=W:\n",
    "        ans.append(v[pw.index(temp)])\n",
    "        W-=w[pw.index(temp)]\n",
    "        x.pop(0)\n",
    "print(pw)\n",
    "print(x)\n",
    "print(ans)\n",
    "print(sum(ans))"
   ]
  },
  {
   "cell_type": "code",
   "execution_count": 17,
   "id": "a17b78bb",
   "metadata": {},
   "outputs": [
    {
     "name": "stdout",
     "output_type": "stream",
     "text": [
      "11\n"
     ]
    }
   ],
   "source": [
    "a= [76, 91, 3, 22, 79, 57, 83 ,41, 9, 76, 47, 14]\n",
    "n=len(a)\n",
    "k=6\n",
    "leng=0\n",
    "n=len(a)\n",
    "ans=[]\n",
    "a.sort()\n",
    "while (max(a)- min(a))>k:\n",
    "    if max(a[1:])-min(a[1:])<=k:\n",
    "        a.pop(0)\n",
    "\n",
    "        break\n",
    "        \n",
    "    if max(a[:len(a)])-min(a[:len(a)])<=k:\n",
    "        a.pop(len(a)-1)\n",
    "        \n",
    "        break\n",
    "        \n",
    "    a.pop(0)\n",
    "    a.pop(len(a)-1)\n",
    "    \n",
    "print(n-len(a))"
   ]
  },
  {
   "cell_type": "code",
   "execution_count": 8,
   "id": "aa54bc6f",
   "metadata": {},
   "outputs": [
    {
     "name": "stdout",
     "output_type": "stream",
     "text": [
      "0\n"
     ]
    }
   ],
   "source": [
    "a = [900, 1100, 1235]\n",
    "d = [1000, 1200, 1240]\n",
    "ctr=0\n",
    "plat=[]\n",
    "for i in range(1,len(a)):\n",
    "    if a[i]>=d[i-1]:\n",
    "            continue\n",
    "    else:\n",
    "        ctr+=1\n",
    "        \n",
    "if ctr not 0:print(ctr)\n",
    "else:print(1)"
   ]
  },
  {
   "cell_type": "code",
   "execution_count": 11,
   "id": "a4c64b32",
   "metadata": {},
   "outputs": [
    {
     "name": "stdout",
     "output_type": "stream",
     "text": [
      "[1200, 1900, 2000]\n"
     ]
    }
   ],
   "source": [
    "a=[900, 940, 950, 1100, 1500, 1800]\n",
    "b=[910, 1200, 1120, 1130, 1900, 2000]\n",
    "ctr=1\n",
    "st=[b[0]]\n",
    "for i in range(1,len(a)):\n",
    "    if a[i]<st[0]:\n",
    "        st.append(b[i])\n",
    "        st.sort()\n",
    "        \n",
    "    else:\n",
    "        st.pop(0)\n",
    "        st.append(b[i])\n",
    "        st.sort()\n",
    "        \n",
    "print(st)"
   ]
  },
  {
   "cell_type": "code",
   "execution_count": 6,
   "id": "f81f40e2",
   "metadata": {},
   "outputs": [
    {
     "name": "stdout",
     "output_type": "stream",
     "text": [
      "4\n"
     ]
    }
   ],
   "source": [
    "ctr=0\n",
    "pos=0\n",
    "a = [2, 3, 1, 1, 2, 4, 2, 0, 1, 1]\n",
    "\n",
    "while True:\n",
    "    x=a[pos]\n",
    "    #print(x,'--')\n",
    "    #print(a[pos+1:a[pos]+pos+1])\n",
    "    a[:pos]=[0]*pos\n",
    "    if pos+a[pos]>=len(a)-1:\n",
    "        ctr+=1\n",
    "        break\n",
    "    pos=a.index(max(a[pos+1:a[pos]+pos+1]))\n",
    "    ctr+=1\n",
    "    #print(pos)\n",
    "    #print(a)\n",
    "   \n",
    "print(ctr)"
   ]
  },
  {
   "cell_type": "code",
   "execution_count": 48,
   "id": "a6ad71bc",
   "metadata": {},
   "outputs": [
    {
     "name": "stdout",
     "output_type": "stream",
     "text": [
      "[0, 1, 2, 3]\n",
      "[0, 0, 0, 0, 4, 5, 6, 7]\n"
     ]
    }
   ],
   "source": [
    "a=[0,1,2,3,4,5,6,7]\n",
    "\n",
    "print(a[:4])\n",
    "a[:4]=[0]*4\n",
    "print(a)"
   ]
  },
  {
   "cell_type": "code",
   "execution_count": 11,
   "id": "69d2bd96",
   "metadata": {},
   "outputs": [
    {
     "name": "stdout",
     "output_type": "stream",
     "text": [
      "[1, 2, 0, 1, 1]\n"
     ]
    }
   ],
   "source": [
    "a=[2,1,4,2,5]\n",
    "n=len(a)\n",
    "ans=[]\n",
    "temp=[0]*n\n",
    "\n",
    "for i in range(n):\n",
    "    temp[a[i]-1]+=1  \n",
    "print(temp)\n",
    "            \n"
   ]
  },
  {
   "cell_type": "code",
   "execution_count": 8,
   "id": "6262b996",
   "metadata": {},
   "outputs": [
    {
     "name": "stdout",
     "output_type": "stream",
     "text": [
      "[1, 1, 1, 2, 1, 4, 6]\n"
     ]
    }
   ],
   "source": [
    "import numpy as np\n",
    "p = [100, 80, 60, 70, 60, 75, 85]\n",
    "ans=[]\n",
    "ans.append(1)\n",
    "for i in range(1,len(p)):\n",
    "    if p[i-1]>p[i]:ans.append(1)\n",
    "        \n",
    "    else:\n",
    "        x=np.array(p[:i+1])\n",
    "        ans.append(np.count_nonzero((x>p[i]) == False))\n",
    "        \n",
    "print(ans)\n",
    "        "
   ]
  },
  {
   "cell_type": "code",
   "execution_count": 7,
   "id": "d373122a",
   "metadata": {},
   "outputs": [
    {
     "name": "stdout",
     "output_type": "stream",
     "text": [
      "a a\n",
      "aa aa\n",
      "aaa aaa\n",
      "[1, 2, 3]\n",
      "3\n"
     ]
    }
   ],
   "source": [
    "s='aaaa'\n",
    "n=len(s)\n",
    "ans=[]\n",
    "for i in range(n-1):\n",
    "    print(s[:i+1],s[n-i-1:])\n",
    "    if s[:i+1]==s[n-i-1:]:\n",
    "        ans.append(len(s[:i+1]))\n",
    "\n",
    "print(ans)        \n",
    "print(max(ans))    "
   ]
  },
  {
   "cell_type": "code",
   "execution_count": 20,
   "id": "08ebb704",
   "metadata": {},
   "outputs": [],
   "source": [
    "#mango tree problem----"
   ]
  },
  {
   "cell_type": "code",
   "execution_count": 23,
   "id": "0885f26c",
   "metadata": {},
   "outputs": [
    {
     "name": "stdout",
     "output_type": "stream",
     "text": [
      "minimum number of trees ramu atleast has-- 3\n"
     ]
    }
   ],
   "source": [
    "a=[[0,1,1,0,0,0],\n",
    "   [1,0,0,1,1,0],\n",
    "   [0,1,0,0,0,0],\n",
    "   [0,1,1,0,0,1],\n",
    "   [1,0,0,1,1,0],\n",
    "   [0,1,0,0,0,0]]\n",
    "r=len(a)\n",
    "c=len(a[0])\n",
    "temp=[]\n",
    "x=[]\n",
    "for i in range(r):\n",
    "    for j in range(c):\n",
    "        x.append(0)     \n",
    "    temp.append(x)\n",
    "    x=[]\n",
    "    \n",
    "for i in range(r):\n",
    "    for j in range(c):\n",
    "        if i==0 and j==0:temp[i][j]=a[i][j]\n",
    "            \n",
    "        if i==0 and j>0:temp[i][j]=a[i][j]+temp[i][j-1]\n",
    "            \n",
    "        if j==0 and i>0:temp[i][j]=a[i][j]+temp[i-1][j]\n",
    "            \n",
    "        if i>0 and j>0:\n",
    "            temp[i][j]=temp[i][j-1]+temp[i-1][j]-temp[i-1][j-1]+a[i][j]\n",
    "            \n",
    "#print(temp)\n",
    "ans=0\n",
    "for i in range(r):\n",
    "    for j in range(c):\n",
    "        p1=temp[i][j]\n",
    "        p2=temp[i][c-1]-p1\n",
    "        p3=temp[r-1][j]-p1\n",
    "        p4=temp[r-1][c-1]-(p1+p2+p3)\n",
    "        #print(p1,p2,p3,p4)\n",
    "        #print()\n",
    "        z=min(p1,p2,p3,p4)\n",
    "        if z>ans:ans=z\n",
    "            \n",
    "print (\"minimum number of trees ramu atleast has--\",ans)"
   ]
  },
  {
   "cell_type": "code",
   "execution_count": null,
   "id": "3d03ff9b",
   "metadata": {},
   "outputs": [],
   "source": [
    "#stock spanning problem"
   ]
  },
  {
   "cell_type": "code",
   "execution_count": 13,
   "id": "8e33f2a5",
   "metadata": {},
   "outputs": [
    {
     "name": "stdout",
     "output_type": "stream",
     "text": [
      "stock spanning array--- [1, 1, 1, 2, 1, 4, 6]\n"
     ]
    }
   ],
   "source": [
    "a=[100,80,60,70,60,75,85]\n",
    "ans=[]\n",
    "s=[]\n",
    "s.append(0)\n",
    "ans.append(1)\n",
    "for i in range(1,len(a)):\n",
    "        if a[i]<a[i-1]:\n",
    "            s.append(i)\n",
    "            ans.append(1)\n",
    "        else:\n",
    "            while(a[i]>a[s[len(s)-1]]):\n",
    "                s.pop()\n",
    "            ans.append(i-s[len(s)-1])\n",
    "        \n",
    "                \n",
    " \n",
    "print('stock spanning array---',ans)"
   ]
  },
  {
   "cell_type": "code",
   "execution_count": null,
   "id": "56d13803",
   "metadata": {},
   "outputs": [],
   "source": []
  }
 ],
 "metadata": {
  "kernelspec": {
   "display_name": "Python 3",
   "language": "python",
   "name": "python3"
  },
  "language_info": {
   "codemirror_mode": {
    "name": "ipython",
    "version": 3
   },
   "file_extension": ".py",
   "mimetype": "text/x-python",
   "name": "python",
   "nbconvert_exporter": "python",
   "pygments_lexer": "ipython3",
   "version": "3.9.0"
  }
 },
 "nbformat": 4,
 "nbformat_minor": 5
}
